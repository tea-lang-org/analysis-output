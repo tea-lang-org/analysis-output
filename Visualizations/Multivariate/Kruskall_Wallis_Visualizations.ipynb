{
 "cells": [
  {
   "cell_type": "code",
   "execution_count": 1,
   "metadata": {},
   "outputs": [],
   "source": [
    "import altair as alt\n",
    "import pandas as pd\n",
    "from statsmodels.formula.api import ols\n",
    "from scipy import stats\n",
    "import numpy as np"
   ]
  },
  {
   "cell_type": "markdown",
   "metadata": {},
   "source": [
    "## Kruskall-Wallis Test"
   ]
  },
  {
   "cell_type": "code",
   "execution_count": 10,
   "metadata": {},
   "outputs": [],
   "source": [
    "def kruskall_wallis(var_x, var_y, data):\n",
    "    var_x = data[var_x]\n",
    "    var_y = data[var_y]\n",
    "    \n",
    "    results = {}\n",
    "    if len(var_x) == 1:\n",
    "        for x in var_x:\n",
    "            data = []\n",
    "            groups = data[x].unique()\n",
    "            for group in groups:\n",
    "                d = data[var_y][data[x] == group]\n",
    "                data.append(d)\n",
    "            results[x] = stats.kruskal(*data)\n",
    "\n",
    "    else:\n",
    "        results = -1\n",
    "\n",
    "    print(results)\n",
    "\n",
    "\n",
    "    # significance = \"did not\"\n",
    "    # if p_val < 0.05:\n",
    "    #     significance = \"did\"\n",
    "\n",
    "    # p_string = \"p = \" + \"{0:.3f}\".format(p_val).lstrip('0')\n",
    "    # if p_val < 0.001:\n",
    "    #     p_string = \"p < .001\"\n",
    "\n",
    "    # chi2_string = \"X^2(\" + str(dof) + \", N = \" + str(ssize) + \") = \" + \"{0:.3f}\".format(chi2)\n",
    "\n",
    "    # print(\"The F-test \" + significance + \" detect a significant association between \" \\\n",
    "    #         + str(var_x) + \" and \" + str(var_y) + \", \" + chi2_string +  \", \" + p_string)\n",
    "\n",
    "    # return expected"
   ]
  },
  {
   "cell_type": "code",
   "execution_count": 11,
   "metadata": {},
   "outputs": [
    {
     "ename": "TypeError",
     "evalue": "list indices must be integers or slices, not str",
     "output_type": "error",
     "traceback": [
      "\u001b[1;31m---------------------------------------------------------------------------\u001b[0m",
      "\u001b[1;31mTypeError\u001b[0m                                 Traceback (most recent call last)",
      "Input \u001b[1;32mIn [11]\u001b[0m, in \u001b[0;36m<module>\u001b[1;34m\u001b[0m\n\u001b[0;32m      5\u001b[0m var_x \u001b[38;5;241m=\u001b[39m \u001b[38;5;124m\"\u001b[39m\u001b[38;5;124mSoya\u001b[39m\u001b[38;5;124m\"\u001b[39m\n\u001b[0;32m      6\u001b[0m var_y \u001b[38;5;241m=\u001b[39m \u001b[38;5;124m\"\u001b[39m\u001b[38;5;124mSperm\u001b[39m\u001b[38;5;124m\"\u001b[39m\n\u001b[1;32m----> 7\u001b[0m results \u001b[38;5;241m=\u001b[39m \u001b[43mkruskall_wallis\u001b[49m\u001b[43m(\u001b[49m\u001b[43mvar_x\u001b[49m\u001b[43m,\u001b[49m\u001b[43m \u001b[49m\u001b[43mvar_y\u001b[49m\u001b[43m,\u001b[49m\u001b[43m \u001b[49m\u001b[43mdata\u001b[49m\u001b[43m)\u001b[49m\n",
      "Input \u001b[1;32mIn [10]\u001b[0m, in \u001b[0;36mkruskall_wallis\u001b[1;34m(var_x, var_y, data)\u001b[0m\n\u001b[0;32m      6\u001b[0m \u001b[38;5;28;01mfor\u001b[39;00m x \u001b[38;5;129;01min\u001b[39;00m var_x:\n\u001b[0;32m      7\u001b[0m     data \u001b[38;5;241m=\u001b[39m []\n\u001b[1;32m----> 8\u001b[0m     groups \u001b[38;5;241m=\u001b[39m \u001b[43mdata\u001b[49m\u001b[43m[\u001b[49m\u001b[43mx\u001b[49m\u001b[43m]\u001b[49m\u001b[38;5;241m.\u001b[39munique()\n\u001b[0;32m      9\u001b[0m     \u001b[38;5;28;01mfor\u001b[39;00m group \u001b[38;5;129;01min\u001b[39;00m groups:\n\u001b[0;32m     10\u001b[0m         d \u001b[38;5;241m=\u001b[39m data[var_y][data[x] \u001b[38;5;241m==\u001b[39m group]\n",
      "\u001b[1;31mTypeError\u001b[0m: list indices must be integers or slices, not str"
     ]
    }
   ],
   "source": [
    "# Load data\n",
    "data = pd.read_csv(\"https://homes.cs.washington.edu/~emjun/tea-lang/datasets/soya.csv\")\n",
    "\n",
    "# Execute statistical test\n",
    "var_x = \"Soya\"\n",
    "var_y = \"Sperm\"\n",
    "results = kruskall_wallis(var_x, var_y, data)"
   ]
  },
  {
   "cell_type": "markdown",
   "metadata": {},
   "source": [
    "### Visualizations"
   ]
  },
  {
   "cell_type": "code",
   "execution_count": 35,
   "metadata": {},
   "outputs": [],
   "source": [
    "# 2D Heat Map\n",
    "alt.Chart(data).mark_rect().encode(\n",
    "    x='Training:N',\n",
    "    y='Dance:N',\n",
    "    color='results:Q'\n",
    ")"
   ]
  }
 ],
 "metadata": {
  "kernelspec": {
   "display_name": "Python 3 (ipykernel)",
   "language": "python",
   "name": "python3"
  },
  "language_info": {
   "codemirror_mode": {
    "name": "ipython",
    "version": 3
   },
   "file_extension": ".py",
   "mimetype": "text/x-python",
   "name": "python",
   "nbconvert_exporter": "python",
   "pygments_lexer": "ipython3",
   "version": "3.9.0"
  }
 },
 "nbformat": 4,
 "nbformat_minor": 2
}
