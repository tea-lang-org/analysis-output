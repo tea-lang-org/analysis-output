{
 "cells": [
  {
   "cell_type": "code",
   "execution_count": 3,
   "metadata": {},
   "outputs": [],
   "source": [
    "import altair as alt\n",
    "import pandas as pd\n",
    "from statsmodels.formula.api import ols\n",
    "from scipy import stats\n",
    "import numpy as np"
   ]
  },
  {
   "cell_type": "markdown",
   "metadata": {},
   "source": [
    "## Kruskal-Wallis Test"
   ]
  },
  {
   "cell_type": "code",
   "execution_count": 47,
   "metadata": {},
   "outputs": [],
   "source": [
    "def kruskal_wallis(var_x, var_y, data):\n",
    "    groups = data[var_x].unique()\n",
    "    data_grouped = []\n",
    "    for group in groups:\n",
    "        d = data[var_y][data[var_x] == group]\n",
    "        data_grouped.append(d)\n",
    "    results = stats.kruskal(*data)\n",
    "\n",
    "    p_val = results.pvalue\n",
    "    h_statistic = results.statistic\n",
    "\n",
    "\n",
    "    significance = \"did not\"\n",
    "    if p_val < 0.05:\n",
    "        significance = \"did\"\n",
    "\n",
    "    p_string = \"p = \" + \"{0:.3f}\".format(p_val).lstrip('0')\n",
    "    if p_val < 0.001:\n",
    "        p_string = \"p < .001\"\n",
    "\n",
    "    print(\"The Kruskal-Wallis test \" + significance + \" detect a significant association between \" \\\n",
    "            + str(var_x) + \" and \" + str(var_y) + \", \" + p_string)"
   ]
  },
  {
   "cell_type": "code",
   "execution_count": 48,
   "metadata": {},
   "outputs": [
    {
     "name": "stdout",
     "output_type": "stream",
     "text": [
      "The Kruskal-Wallis test did not detect a significant association between Soya and Sperm, , p = .368\n"
     ]
    }
   ],
   "source": [
    "# Load data\n",
    "data = pd.read_csv(\"https://homes.cs.washington.edu/~emjun/tea-lang/datasets/soya.csv\")\n",
    "\n",
    "# Execute statistical test\n",
    "var_x = \"Soya\"\n",
    "var_y = \"Sperm\"\n",
    "results = kruskal_wallis(var_x, var_y, data)"
   ]
  },
  {
   "cell_type": "markdown",
   "metadata": {},
   "source": [
    "### Visualizations"
   ]
  },
  {
   "cell_type": "code",
   "execution_count": 35,
   "metadata": {},
   "outputs": [],
   "source": [
    "# 2D Heat Map\n",
    "alt.Chart(data).mark_rect().encode(\n",
    "    x='Training:N',\n",
    "    y='Dance:N',\n",
    "    color='results:Q'\n",
    ")"
   ]
  }
 ],
 "metadata": {
  "kernelspec": {
   "display_name": "Python 3 (ipykernel)",
   "language": "python",
   "name": "python3"
  },
  "language_info": {
   "codemirror_mode": {
    "name": "ipython",
    "version": 3
   },
   "file_extension": ".py",
   "mimetype": "text/x-python",
   "name": "python",
   "nbconvert_exporter": "python",
   "pygments_lexer": "ipython3",
   "version": "3.9.0"
  }
 },
 "nbformat": 4,
 "nbformat_minor": 2
}
