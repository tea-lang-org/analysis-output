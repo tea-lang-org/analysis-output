{
 "cells": [
  {
   "cell_type": "code",
   "execution_count": 1,
   "metadata": {},
   "outputs": [],
   "source": [
    "import altair as alt\n",
    "import pandas as pd\n",
    "import statsmodels as sm\n",
    "from scipy import stats\n",
    "import numpy as np"
   ]
  },
  {
   "cell_type": "markdown",
   "metadata": {},
   "source": [
    "## Fisher Exact Test"
   ]
  },
  {
   "cell_type": "code",
   "execution_count": 13,
   "metadata": {},
   "outputs": [],
   "source": [
    "def fisher_exact(var_x, var_y, data):\n",
    "    var_0_groups = data[var_x].unique()\n",
    "    var_1_groups = data[var_y].unique()\n",
    "\n",
    "    contingency_table = []\n",
    "    for group_0 in var_0_groups:\n",
    "        table_row = []\n",
    "        for group_1 in var_1_groups:\n",
    "            data_new = data[var_y][(data[var_x] == group_0) & (data[var_y] == group_1)]\n",
    "            table_row.append(len(data_new))\n",
    "\n",
    "        contingency_table.append(table_row)\n",
    "\n",
    "    odds, p_val = stats.fisher_exact(contingency_table)\n",
    "\n",
    "    # Calculate expected frequencies --> heatmap vals \n",
    "    # Consider raw counts as well\n",
    "\n",
    "    significance = \"no\"\n",
    "    if p_val < 0.05:\n",
    "        significance = \"an\"\n",
    "\n",
    "    p_string = \"p = \" + \"{0:.3f}\".format(p_val).lstrip('0')\n",
    "    if p_val < 0.001:\n",
    "        p_string = \"p < .001\"\n",
    "\n",
    "    print(\"The Fisher Exact test found \" + significance + \" association between \" \\\n",
    "            + str(var_x) + \" and \" + str(var_y) + \", \" + p_string)"
   ]
  },
  {
   "cell_type": "code",
   "execution_count": 12,
   "metadata": {},
   "outputs": [
    {
     "name": "stdout",
     "output_type": "stream",
     "text": [
      "1.3117092613005282e-06\n",
      "The Fisher Exact test found an association between Training and Dance, p < .001\n"
     ]
    }
   ],
   "source": [
    "# Load data\n",
    "data = pd.read_csv(\"https://homes.cs.washington.edu/~emjun/tea-lang/datasets/catsData.csv\")\n",
    "\n",
    "# Execute statistical test\n",
    "var_x = \"Training\"\n",
    "var_y = \"Dance\"\n",
    "results = fisher_exact(var_x, var_y, data)"
   ]
  },
  {
   "cell_type": "markdown",
   "metadata": {},
   "source": [
    "### Visualizations"
   ]
  },
  {
   "cell_type": "code",
   "execution_count": 35,
   "metadata": {},
   "outputs": [],
   "source": [
    "# 2D Heat Map\n",
    "alt.Chart(data).mark_rect().encode(\n",
    "    x='Training:N',\n",
    "    y='Dance:N',\n",
    "    color='results:Q'\n",
    ")"
   ]
  }
 ],
 "metadata": {
  "kernelspec": {
   "display_name": "Python 3 (ipykernel)",
   "language": "python",
   "name": "python3"
  },
  "language_info": {
   "codemirror_mode": {
    "name": "ipython",
    "version": 3
   },
   "file_extension": ".py",
   "mimetype": "text/x-python",
   "name": "python",
   "nbconvert_exporter": "python",
   "pygments_lexer": "ipython3",
   "version": "3.9.0"
  }
 },
 "nbformat": 4,
 "nbformat_minor": 2
}
