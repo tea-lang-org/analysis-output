{
 "cells": [
  {
   "cell_type": "code",
   "execution_count": 1,
   "metadata": {},
   "outputs": [],
   "source": [
    "import altair as alt\n",
    "import pandas as pd\n",
    "from statsmodels.formula.api import ols\n",
    "from scipy import stats\n",
    "import numpy as np"
   ]
  },
  {
   "cell_type": "code",
   "execution_count": 5,
   "metadata": {},
   "outputs": [],
   "source": [
    "from statsmodels.stats.anova import anova_lm"
   ]
  },
  {
   "cell_type": "markdown",
   "metadata": {},
   "source": [
    "## F-Test (Factorial ANOVA)"
   ]
  },
  {
   "cell_type": "code",
   "execution_count": 12,
   "metadata": {},
   "outputs": [],
   "source": [
    "def f_test(var_x, var_y, data):\n",
    "    formula = ols(f\"{var_y} ~ C({var_x})\", data=data)\n",
    "    model = formula.fit()\n",
    "    anova = anova_lm(model, type=2)\n",
    "\n",
    "    print(anova)\n",
    "    \n",
    "    p_val = anova['PR(>F)'][0]\n",
    "\n",
    "\n",
    "    # significance = \"did not\"\n",
    "    # if p_val < 0.05:\n",
    "    #     significance = \"did\"\n",
    "\n",
    "    # p_string = \"p = \" + \"{0:.3f}\".format(p_val).lstrip('0')\n",
    "    # if p_val < 0.001:\n",
    "    #     p_string = \"p < .001\"\n",
    "\n",
    "    # chi2_string = \"X^2(\" + str(dof) + \", N = \" + str(ssize) + \") = \" + \"{0:.3f}\".format(chi2)\n",
    "\n",
    "    # print(\"The F-test \" + significance + \" detect a significant association between \" \\\n",
    "    #         + str(var_x) + \" and \" + str(var_y) + \", \" + chi2_string +  \", \" + p_string)\n",
    "\n",
    "    # return expected"
   ]
  },
  {
   "cell_type": "code",
   "execution_count": 13,
   "metadata": {},
   "outputs": [
    {
     "name": "stdout",
     "output_type": "stream",
     "text": [
      "            df       sum_sq     mean_sq          F        PR(>F)\n",
      "C(trt)     4.0  1351.369014  337.842253  32.432826  9.818516e-13\n",
      "Residual  45.0   468.750438   10.416676        NaN           NaN\n"
     ]
    }
   ],
   "source": [
    "# Load data\n",
    "data = pd.read_csv(\"https://homes.cs.washington.edu/~emjun/tea-lang/datasets/cholesterol.csv\")\n",
    "\n",
    "# Execute statistical test\n",
    "var_x = \"trt\"\n",
    "var_y = \"response\"\n",
    "results = f_test(var_x, var_y, data)"
   ]
  },
  {
   "cell_type": "markdown",
   "metadata": {},
   "source": [
    "### Visualizations"
   ]
  },
  {
   "cell_type": "code",
   "execution_count": 35,
   "metadata": {},
   "outputs": [],
   "source": [
    "# 2D Heat Map\n",
    "alt.Chart(data).mark_rect().encode(\n",
    "    x='Training:N',\n",
    "    y='Dance:N',\n",
    "    color='results:Q'\n",
    ")"
   ]
  }
 ],
 "metadata": {
  "kernelspec": {
   "display_name": "Python 3 (ipykernel)",
   "language": "python",
   "name": "python3"
  },
  "language_info": {
   "codemirror_mode": {
    "name": "ipython",
    "version": 3
   },
   "file_extension": ".py",
   "mimetype": "text/x-python",
   "name": "python",
   "nbconvert_exporter": "python",
   "pygments_lexer": "ipython3",
   "version": "3.9.0"
  }
 },
 "nbformat": 4,
 "nbformat_minor": 2
}
