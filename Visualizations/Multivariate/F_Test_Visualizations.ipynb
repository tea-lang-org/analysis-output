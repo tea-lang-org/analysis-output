{
 "cells": [
  {
   "cell_type": "code",
   "execution_count": 1,
   "metadata": {},
   "outputs": [],
   "source": [
    "import altair as alt\n",
    "import pandas as pd\n",
    "from statsmodels.formula.api import ols\n",
    "from scipy import stats\n",
    "import numpy as np"
   ]
  },
  {
   "cell_type": "code",
   "execution_count": 5,
   "metadata": {},
   "outputs": [],
   "source": [
    "from statsmodels.stats.anova import anova_lm"
   ]
  },
  {
   "cell_type": "markdown",
   "metadata": {},
   "source": [
    "## F-Test (Factorial ANOVA)"
   ]
  },
  {
   "cell_type": "code",
   "execution_count": 20,
   "metadata": {},
   "outputs": [],
   "source": [
    "def f_test(var_x, var_y, data):\n",
    "    formula = ols(f\"{var_y} ~ C({var_x})\", data=data)\n",
    "    model = formula.fit()\n",
    "    anova = anova_lm(model, type=2)\n",
    "    \n",
    "    p_val = anova['PR(>F)'][0]\n",
    "    f_ratio = anova['F'][0]\n",
    "    df_b = anova['df'][0] - 1 # df_between = k-1, df_within = n-k \n",
    "    df_w = anova['df'][1]\n",
    "\n",
    "    significance = \"did not\"\n",
    "    if p_val < 0.05:\n",
    "        significance = \"did\"\n",
    "\n",
    "    p_string = \"p = \" + \"{0:.3f}\".format(p_val).lstrip('0')\n",
    "    if p_val < 0.001:\n",
    "        p_string = \"p < .001\"\n",
    "\n",
    "    f_string = \"F(\" + str(int(df_b)) + \", \" + str(int(df_w)) + \") = \" + \"{0:.3f}\".format(f_ratio)\n",
    "\n",
    "    print(\"The F-test \" + significance + \" detect a significant association between \" \\\n",
    "            + str(var_x) + \" and \" + str(var_y) + \", \" + f_string +  \", \" + p_string)\n",
    "\n",
    "    # return expected"
   ]
  },
  {
   "cell_type": "code",
   "execution_count": 21,
   "metadata": {},
   "outputs": [
    {
     "name": "stdout",
     "output_type": "stream",
     "text": [
      "The F-test did detect a significant association between trt and response, F(3, 45) = 32.433, p < .001\n"
     ]
    }
   ],
   "source": [
    "# Load data\n",
    "data = pd.read_csv(\"https://homes.cs.washington.edu/~emjun/tea-lang/datasets/cholesterol.csv\")\n",
    "\n",
    "# Ensure functionality for mult x vars\n",
    "\n",
    "# Execute statistical test\n",
    "var_x = \"trt\"\n",
    "var_y = \"response\"\n",
    "results = f_test(var_x, var_y, data)"
   ]
  },
  {
   "cell_type": "markdown",
   "metadata": {},
   "source": [
    "### Visualizations"
   ]
  },
  {
   "cell_type": "code",
   "execution_count": 35,
   "metadata": {},
   "outputs": [],
   "source": []
  }
 ],
 "metadata": {
  "kernelspec": {
   "display_name": "Python 3 (ipykernel)",
   "language": "python",
   "name": "python3"
  },
  "language_info": {
   "codemirror_mode": {
    "name": "ipython",
    "version": 3
   },
   "file_extension": ".py",
   "mimetype": "text/x-python",
   "name": "python",
   "nbconvert_exporter": "python",
   "pygments_lexer": "ipython3",
   "version": "3.9.0"
  }
 },
 "nbformat": 4,
 "nbformat_minor": 2
}
