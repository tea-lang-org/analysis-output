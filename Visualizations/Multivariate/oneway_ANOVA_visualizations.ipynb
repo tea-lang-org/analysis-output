{
 "cells": [
  {
   "cell_type": "code",
   "execution_count": 1,
   "metadata": {},
   "outputs": [],
   "source": [
    "import altair as alt\n",
    "import pandas as pd\n",
    "from statsmodels.formula.api import ols\n",
    "from scipy import stats\n",
    "import numpy as np"
   ]
  },
  {
   "cell_type": "code",
   "execution_count": 2,
   "metadata": {},
   "outputs": [],
   "source": [
    "from statsmodels.stats.anova import AnovaRM"
   ]
  },
  {
   "cell_type": "markdown",
   "metadata": {},
   "source": [
    "## One Way ANOVA"
   ]
  },
  {
   "cell_type": "code",
   "execution_count": 59,
   "metadata": {},
   "outputs": [],
   "source": [
    "def anova(var_x, key, var_y, data):\n",
    "    aovrm2way = AnovaRM(data, var_y, var_x, within=key, aggregate_func='mean')\n",
    "    res2way = aovrm2way.fit()\n",
    "\n",
    "    # significance = \"did not\"\n",
    "    # if p_val < 0.05:\n",
    "    #     significance = \"did\"\n",
    "\n",
    "    # p_string = \"p = \" + \"{0:.3f}\".format(p_val).lstrip('0')\n",
    "    # if p_val < 0.001:\n",
    "    #     p_string = \"p < .001\"\n",
    "\n",
    "    # f_string = \"F(\" + str(int(df_b)) + \", \" + str(int(df_w)) + \") = \" + \"{0:.3f}\".format(f_ratio)\n",
    "\n",
    "    # print(\"The F-test \" + significance + \" detect a significant association between \" \\\n",
    "    #         + str(var_x) + \" and \" + str(var_y) + \", \" + f_string +  \", \" + p_string)\n",
    "\n",
    "    # return expected"
   ]
  },
  {
   "cell_type": "code",
   "execution_count": 60,
   "metadata": {},
   "outputs": [
    {
     "name": "stdout",
     "output_type": "stream",
     "text": [
      "['__class__', '__delattr__', '__dict__', '__dir__', '__doc__', '__eq__', '__format__', '__ge__', '__getattribute__', '__gt__', '__hash__', '__init__', '__init_subclass__', '__le__', '__lt__', '__module__', '__ne__', '__new__', '__reduce__', '__reduce_ex__', '__repr__', '__setattr__', '__sizeof__', '__str__', '__subclasshook__', '__weakref__', 'anova_table', 'summary']\n",
      "              Anova\n",
      "=================================\n",
      "     F Value Num DF Den DF Pr > F\n",
      "---------------------------------\n",
      "Type 53.9313 1.0000 6.0000 0.0003\n",
      "=================================\n",
      "\n"
     ]
    }
   ],
   "source": [
    "# Load data\n",
    "data = pd.read_csv(\"https://homes.cs.washington.edu/~emjun/tea-lang/datasets/co2.csv\")\n",
    "\n",
    "# Ensure functionality for mult x vars\n",
    "\n",
    "# Execute statistical test\n",
    "var_x = \"conc\"\n",
    "key = ['Type']\n",
    "var_y = \"uptake\"\n",
    "results = anova(var_x, key, var_y, data)"
   ]
  },
  {
   "cell_type": "markdown",
   "metadata": {},
   "source": [
    "### Visualizations"
   ]
  },
  {
   "cell_type": "code",
   "execution_count": 35,
   "metadata": {},
   "outputs": [],
   "source": []
  }
 ],
 "metadata": {
  "kernelspec": {
   "display_name": "Python 3 (ipykernel)",
   "language": "python",
   "name": "python3"
  },
  "language_info": {
   "codemirror_mode": {
    "name": "ipython",
    "version": 3
   },
   "file_extension": ".py",
   "mimetype": "text/x-python",
   "name": "python",
   "nbconvert_exporter": "python",
   "pygments_lexer": "ipython3",
   "version": "3.9.0"
  }
 },
 "nbformat": 4,
 "nbformat_minor": 2
}
