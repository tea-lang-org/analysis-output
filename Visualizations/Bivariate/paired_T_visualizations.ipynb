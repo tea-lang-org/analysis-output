{
 "cells": [
  {
   "cell_type": "code",
   "execution_count": 1,
   "metadata": {},
   "outputs": [],
   "source": [
    "import altair as alt\n",
    "import pandas as pd\n",
    "import statsmodels as sm\n",
    "from scipy import stats\n",
    "import numpy as np"
   ]
  },
  {
   "cell_type": "markdown",
   "metadata": {},
   "source": [
    "## Student's T Test"
   ]
  },
  {
   "cell_type": "code",
   "execution_count": 3,
   "metadata": {},
   "outputs": [
    {
     "name": "stdout",
     "output_type": "stream",
     "text": [
      "The Student's T-Test found that did detect a significant correlation between So and Prob, r(45) = 4.19, p < .001\n"
     ]
    }
   ],
   "source": [
    "# Load data\n",
    "data = pd.read_csv(\"https://homes.cs.washington.edu/~emjun/tea-lang/datasets/UScrime.csv\")\n",
    "\n",
    "# Execute statistical test\n",
    "var_x = \"So\"\n",
    "var_y = \"Prob\"\n",
    "\n",
    "x = data[var_x]\n",
    "y = data[var_y]\n",
    "df = len(x) - 2 # Determine degrees of freedom \n",
    "t_stat, p_val = stats.ttest_ind(x, y)\n",
    "\n",
    "significance = \"did not\"\n",
    "if p_val < 0.05:\n",
    "    significance = \"did\"\n",
    "\n",
    "# # Calculate confidence interval\n",
    "# r_z = np.arctanh(r_val)\n",
    "# stdev = 1/np.sqrt(len(x)-3)\n",
    "# alpha = 0.05\n",
    "# z = stats.norm.ppf(1-alpha/2)\n",
    "# ci = np.tanh((r_z-z*stdev, r_z+z*stdev))\n",
    "\n",
    "p_string = \"p = \" + \"{0:.3f}\".format(p_val).lstrip('0')\n",
    "if p_val < 0.001:\n",
    "    p_string = \"p < .001\"\n",
    "\n",
    "t_string = \"{0:.2f}\".format(abs(t_stat)).lstrip('0')\n",
    "# r_string = \"{0:.2f}\".format(abs(r_val)).lstrip('0')\n",
    "# if r_val < 0:\n",
    "#     r_string = \"-\" + r_string\n",
    "t_string = \"r(\" + str(df) + \") = \" + t_string\n",
    "\n",
    "# ci_string = \"[\" + \"{0:.2f}\".format(ci[0]) + \", \" + \"{0:.2f}\".format(ci[1]) + \"]\"\n",
    "\n",
    "print(\"The Student's T-Test found that \" + significance + \" detect a significant correlation between \" \\\n",
    "        + str(var_x) + \" and \" + str(var_y) + \", \"  + t_string +  \", \" \\\n",
    "        + p_string) #+ \", \" ci_string"
   ]
  },
  {
   "cell_type": "markdown",
   "metadata": {},
   "source": [
    "### Visualizations"
   ]
  },
  {
   "cell_type": "code",
   "execution_count": 5,
   "metadata": {},
   "outputs": [
    {
     "data": {
      "text/html": [
       "\n",
       "<div id=\"altair-viz-0dc0d5d3d69b4f6c83318dd7c76d02e5\"></div>\n",
       "<script type=\"text/javascript\">\n",
       "  var VEGA_DEBUG = (typeof VEGA_DEBUG == \"undefined\") ? {} : VEGA_DEBUG;\n",
       "  (function(spec, embedOpt){\n",
       "    let outputDiv = document.currentScript.previousElementSibling;\n",
       "    if (outputDiv.id !== \"altair-viz-0dc0d5d3d69b4f6c83318dd7c76d02e5\") {\n",
       "      outputDiv = document.getElementById(\"altair-viz-0dc0d5d3d69b4f6c83318dd7c76d02e5\");\n",
       "    }\n",
       "    const paths = {\n",
       "      \"vega\": \"https://cdn.jsdelivr.net/npm//vega@5?noext\",\n",
       "      \"vega-lib\": \"https://cdn.jsdelivr.net/npm//vega-lib?noext\",\n",
       "      \"vega-lite\": \"https://cdn.jsdelivr.net/npm//vega-lite@4.17.0?noext\",\n",
       "      \"vega-embed\": \"https://cdn.jsdelivr.net/npm//vega-embed@6?noext\",\n",
       "    };\n",
       "\n",
       "    function maybeLoadScript(lib, version) {\n",
       "      var key = `${lib.replace(\"-\", \"\")}_version`;\n",
       "      return (VEGA_DEBUG[key] == version) ?\n",
       "        Promise.resolve(paths[lib]) :\n",
       "        new Promise(function(resolve, reject) {\n",
       "          var s = document.createElement('script');\n",
       "          document.getElementsByTagName(\"head\")[0].appendChild(s);\n",
       "          s.async = true;\n",
       "          s.onload = () => {\n",
       "            VEGA_DEBUG[key] = version;\n",
       "            return resolve(paths[lib]);\n",
       "          };\n",
       "          s.onerror = () => reject(`Error loading script: ${paths[lib]}`);\n",
       "          s.src = paths[lib];\n",
       "        });\n",
       "    }\n",
       "\n",
       "    function showError(err) {\n",
       "      outputDiv.innerHTML = `<div class=\"error\" style=\"color:red;\">${err}</div>`;\n",
       "      throw err;\n",
       "    }\n",
       "\n",
       "    function displayChart(vegaEmbed) {\n",
       "      vegaEmbed(outputDiv, spec, embedOpt)\n",
       "        .catch(err => showError(`Javascript Error: ${err.message}<br>This usually means there's a typo in your chart specification. See the javascript console for the full traceback.`));\n",
       "    }\n",
       "\n",
       "    if(typeof define === \"function\" && define.amd) {\n",
       "      requirejs.config({paths});\n",
       "      require([\"vega-embed\"], displayChart, err => showError(`Error loading script: ${err.message}`));\n",
       "    } else {\n",
       "      maybeLoadScript(\"vega\", \"5\")\n",
       "        .then(() => maybeLoadScript(\"vega-lite\", \"4.17.0\"))\n",
       "        .then(() => maybeLoadScript(\"vega-embed\", \"6\"))\n",
       "        .catch(showError)\n",
       "        .then(() => displayChart(vegaEmbed));\n",
       "    }\n",
       "  })({\"config\": {\"view\": {\"continuousWidth\": 400, \"continuousHeight\": 300}}, \"data\": {\"name\": \"data-a693ae88da660effb81c75b6c4eb90d6\"}, \"mark\": {\"type\": \"circle\", \"size\": 60}, \"encoding\": {\"tooltip\": [{\"field\": \"So\", \"type\": \"quantitative\"}, {\"field\": \"Prob\", \"type\": \"quantitative\"}, {\"field\": \"Unnamed: 0\", \"title\": \"Crime\", \"type\": \"quantitative\"}], \"x\": {\"field\": \"So\", \"type\": \"nominal\"}, \"y\": {\"field\": \"Prob\", \"type\": \"quantitative\"}}, \"selection\": {\"selector002\": {\"type\": \"interval\", \"bind\": \"scales\", \"encodings\": [\"x\", \"y\"]}}, \"$schema\": \"https://vega.github.io/schema/vega-lite/v4.17.0.json\", \"datasets\": {\"data-a693ae88da660effb81c75b6c4eb90d6\": [{\"Unnamed: 0\": 1, \"M\": 151, \"So\": 1, \"Ed\": 91, \"Po1\": 58, \"Po2\": 56, \"LF\": 510, \"M.F\": 950, \"Pop\": 33, \"NW\": 301, \"U1\": 108, \"U2\": 41, \"GDP\": 394, \"Ineq\": 261, \"Prob\": 0.084602, \"Time\": 26.2011, \"y\": 791}, {\"Unnamed: 0\": 2, \"M\": 143, \"So\": 0, \"Ed\": 113, \"Po1\": 103, \"Po2\": 95, \"LF\": 583, \"M.F\": 1012, \"Pop\": 13, \"NW\": 102, \"U1\": 96, \"U2\": 36, \"GDP\": 557, \"Ineq\": 194, \"Prob\": 0.029599, \"Time\": 25.2999, \"y\": 1635}, {\"Unnamed: 0\": 3, \"M\": 142, \"So\": 1, \"Ed\": 89, \"Po1\": 45, \"Po2\": 44, \"LF\": 533, \"M.F\": 969, \"Pop\": 18, \"NW\": 219, \"U1\": 94, \"U2\": 33, \"GDP\": 318, \"Ineq\": 250, \"Prob\": 0.083401, \"Time\": 24.3006, \"y\": 578}, {\"Unnamed: 0\": 4, \"M\": 136, \"So\": 0, \"Ed\": 121, \"Po1\": 149, \"Po2\": 141, \"LF\": 577, \"M.F\": 994, \"Pop\": 157, \"NW\": 80, \"U1\": 102, \"U2\": 39, \"GDP\": 673, \"Ineq\": 167, \"Prob\": 0.015801, \"Time\": 29.9012, \"y\": 1969}, {\"Unnamed: 0\": 5, \"M\": 141, \"So\": 0, \"Ed\": 121, \"Po1\": 109, \"Po2\": 101, \"LF\": 591, \"M.F\": 985, \"Pop\": 18, \"NW\": 30, \"U1\": 91, \"U2\": 20, \"GDP\": 578, \"Ineq\": 174, \"Prob\": 0.041399, \"Time\": 21.2998, \"y\": 1234}, {\"Unnamed: 0\": 6, \"M\": 121, \"So\": 0, \"Ed\": 110, \"Po1\": 118, \"Po2\": 115, \"LF\": 547, \"M.F\": 964, \"Pop\": 25, \"NW\": 44, \"U1\": 84, \"U2\": 29, \"GDP\": 689, \"Ineq\": 126, \"Prob\": 0.034201, \"Time\": 20.9995, \"y\": 682}, {\"Unnamed: 0\": 7, \"M\": 127, \"So\": 1, \"Ed\": 111, \"Po1\": 82, \"Po2\": 79, \"LF\": 519, \"M.F\": 982, \"Pop\": 4, \"NW\": 139, \"U1\": 97, \"U2\": 38, \"GDP\": 620, \"Ineq\": 168, \"Prob\": 0.0421, \"Time\": 20.6993, \"y\": 963}, {\"Unnamed: 0\": 8, \"M\": 131, \"So\": 1, \"Ed\": 109, \"Po1\": 115, \"Po2\": 109, \"LF\": 542, \"M.F\": 969, \"Pop\": 50, \"NW\": 179, \"U1\": 79, \"U2\": 35, \"GDP\": 472, \"Ineq\": 206, \"Prob\": 0.040099, \"Time\": 24.5988, \"y\": 1555}, {\"Unnamed: 0\": 9, \"M\": 157, \"So\": 1, \"Ed\": 90, \"Po1\": 65, \"Po2\": 62, \"LF\": 553, \"M.F\": 955, \"Pop\": 39, \"NW\": 286, \"U1\": 81, \"U2\": 28, \"GDP\": 421, \"Ineq\": 239, \"Prob\": 0.071697, \"Time\": 29.4001, \"y\": 856}, {\"Unnamed: 0\": 10, \"M\": 140, \"So\": 0, \"Ed\": 118, \"Po1\": 71, \"Po2\": 68, \"LF\": 632, \"M.F\": 1029, \"Pop\": 7, \"NW\": 15, \"U1\": 100, \"U2\": 24, \"GDP\": 526, \"Ineq\": 174, \"Prob\": 0.044498, \"Time\": 19.5994, \"y\": 705}, {\"Unnamed: 0\": 11, \"M\": 124, \"So\": 0, \"Ed\": 105, \"Po1\": 121, \"Po2\": 116, \"LF\": 580, \"M.F\": 966, \"Pop\": 101, \"NW\": 106, \"U1\": 77, \"U2\": 35, \"GDP\": 657, \"Ineq\": 170, \"Prob\": 0.016201, \"Time\": 41.6, \"y\": 1674}, {\"Unnamed: 0\": 12, \"M\": 134, \"So\": 0, \"Ed\": 108, \"Po1\": 75, \"Po2\": 71, \"LF\": 595, \"M.F\": 972, \"Pop\": 47, \"NW\": 59, \"U1\": 83, \"U2\": 31, \"GDP\": 580, \"Ineq\": 172, \"Prob\": 0.031201, \"Time\": 34.2984, \"y\": 849}, {\"Unnamed: 0\": 13, \"M\": 128, \"So\": 0, \"Ed\": 113, \"Po1\": 67, \"Po2\": 60, \"LF\": 624, \"M.F\": 972, \"Pop\": 28, \"NW\": 10, \"U1\": 77, \"U2\": 25, \"GDP\": 507, \"Ineq\": 206, \"Prob\": 0.045302, \"Time\": 36.2993, \"y\": 511}, {\"Unnamed: 0\": 14, \"M\": 135, \"So\": 0, \"Ed\": 117, \"Po1\": 62, \"Po2\": 61, \"LF\": 595, \"M.F\": 986, \"Pop\": 22, \"NW\": 46, \"U1\": 77, \"U2\": 27, \"GDP\": 529, \"Ineq\": 190, \"Prob\": 0.0532, \"Time\": 21.501, \"y\": 664}, {\"Unnamed: 0\": 15, \"M\": 152, \"So\": 1, \"Ed\": 87, \"Po1\": 57, \"Po2\": 53, \"LF\": 530, \"M.F\": 986, \"Pop\": 30, \"NW\": 72, \"U1\": 92, \"U2\": 43, \"GDP\": 405, \"Ineq\": 264, \"Prob\": 0.0691, \"Time\": 22.7008, \"y\": 798}, {\"Unnamed: 0\": 16, \"M\": 142, \"So\": 1, \"Ed\": 88, \"Po1\": 81, \"Po2\": 77, \"LF\": 497, \"M.F\": 956, \"Pop\": 33, \"NW\": 321, \"U1\": 116, \"U2\": 47, \"GDP\": 427, \"Ineq\": 247, \"Prob\": 0.052099, \"Time\": 26.0991, \"y\": 946}, {\"Unnamed: 0\": 17, \"M\": 143, \"So\": 0, \"Ed\": 110, \"Po1\": 66, \"Po2\": 63, \"LF\": 537, \"M.F\": 977, \"Pop\": 10, \"NW\": 6, \"U1\": 114, \"U2\": 35, \"GDP\": 487, \"Ineq\": 166, \"Prob\": 0.076299, \"Time\": 19.1002, \"y\": 539}, {\"Unnamed: 0\": 18, \"M\": 135, \"So\": 1, \"Ed\": 104, \"Po1\": 123, \"Po2\": 115, \"LF\": 537, \"M.F\": 978, \"Pop\": 31, \"NW\": 170, \"U1\": 89, \"U2\": 34, \"GDP\": 631, \"Ineq\": 165, \"Prob\": 0.119804, \"Time\": 18.1996, \"y\": 929}, {\"Unnamed: 0\": 19, \"M\": 130, \"So\": 0, \"Ed\": 116, \"Po1\": 128, \"Po2\": 128, \"LF\": 536, \"M.F\": 934, \"Pop\": 51, \"NW\": 24, \"U1\": 78, \"U2\": 34, \"GDP\": 627, \"Ineq\": 135, \"Prob\": 0.019099, \"Time\": 24.9008, \"y\": 750}, {\"Unnamed: 0\": 20, \"M\": 125, \"So\": 0, \"Ed\": 108, \"Po1\": 113, \"Po2\": 105, \"LF\": 567, \"M.F\": 985, \"Pop\": 78, \"NW\": 94, \"U1\": 130, \"U2\": 58, \"GDP\": 626, \"Ineq\": 166, \"Prob\": 0.034801, \"Time\": 26.401, \"y\": 1225}, {\"Unnamed: 0\": 21, \"M\": 126, \"So\": 0, \"Ed\": 108, \"Po1\": 74, \"Po2\": 67, \"LF\": 602, \"M.F\": 984, \"Pop\": 34, \"NW\": 12, \"U1\": 102, \"U2\": 33, \"GDP\": 557, \"Ineq\": 195, \"Prob\": 0.0228, \"Time\": 37.5998, \"y\": 742}, {\"Unnamed: 0\": 22, \"M\": 157, \"So\": 1, \"Ed\": 89, \"Po1\": 47, \"Po2\": 44, \"LF\": 512, \"M.F\": 962, \"Pop\": 22, \"NW\": 423, \"U1\": 97, \"U2\": 34, \"GDP\": 288, \"Ineq\": 276, \"Prob\": 0.089502, \"Time\": 37.0994, \"y\": 439}, {\"Unnamed: 0\": 23, \"M\": 132, \"So\": 0, \"Ed\": 96, \"Po1\": 87, \"Po2\": 83, \"LF\": 564, \"M.F\": 953, \"Pop\": 43, \"NW\": 92, \"U1\": 83, \"U2\": 32, \"GDP\": 513, \"Ineq\": 227, \"Prob\": 0.0307, \"Time\": 25.1989, \"y\": 1216}, {\"Unnamed: 0\": 24, \"M\": 131, \"So\": 0, \"Ed\": 116, \"Po1\": 78, \"Po2\": 73, \"LF\": 574, \"M.F\": 1038, \"Pop\": 7, \"NW\": 36, \"U1\": 142, \"U2\": 42, \"GDP\": 540, \"Ineq\": 176, \"Prob\": 0.041598, \"Time\": 17.6, \"y\": 968}, {\"Unnamed: 0\": 25, \"M\": 130, \"So\": 0, \"Ed\": 116, \"Po1\": 63, \"Po2\": 57, \"LF\": 641, \"M.F\": 984, \"Pop\": 14, \"NW\": 26, \"U1\": 70, \"U2\": 21, \"GDP\": 486, \"Ineq\": 196, \"Prob\": 0.069197, \"Time\": 21.9003, \"y\": 523}, {\"Unnamed: 0\": 26, \"M\": 131, \"So\": 0, \"Ed\": 121, \"Po1\": 160, \"Po2\": 143, \"LF\": 631, \"M.F\": 1071, \"Pop\": 3, \"NW\": 77, \"U1\": 102, \"U2\": 41, \"GDP\": 674, \"Ineq\": 152, \"Prob\": 0.041698, \"Time\": 22.1005, \"y\": 1993}, {\"Unnamed: 0\": 27, \"M\": 135, \"So\": 0, \"Ed\": 109, \"Po1\": 69, \"Po2\": 71, \"LF\": 540, \"M.F\": 965, \"Pop\": 6, \"NW\": 4, \"U1\": 80, \"U2\": 22, \"GDP\": 564, \"Ineq\": 139, \"Prob\": 0.036099, \"Time\": 28.4999, \"y\": 342}, {\"Unnamed: 0\": 28, \"M\": 152, \"So\": 0, \"Ed\": 112, \"Po1\": 82, \"Po2\": 76, \"LF\": 571, \"M.F\": 1018, \"Pop\": 10, \"NW\": 79, \"U1\": 103, \"U2\": 28, \"GDP\": 537, \"Ineq\": 215, \"Prob\": 0.038201, \"Time\": 25.8006, \"y\": 1216}, {\"Unnamed: 0\": 29, \"M\": 119, \"So\": 0, \"Ed\": 107, \"Po1\": 166, \"Po2\": 157, \"LF\": 521, \"M.F\": 938, \"Pop\": 168, \"NW\": 89, \"U1\": 92, \"U2\": 36, \"GDP\": 637, \"Ineq\": 154, \"Prob\": 0.0234, \"Time\": 36.7009, \"y\": 1043}, {\"Unnamed: 0\": 30, \"M\": 166, \"So\": 1, \"Ed\": 89, \"Po1\": 58, \"Po2\": 54, \"LF\": 521, \"M.F\": 973, \"Pop\": 46, \"NW\": 254, \"U1\": 72, \"U2\": 26, \"GDP\": 396, \"Ineq\": 237, \"Prob\": 0.075298, \"Time\": 28.3011, \"y\": 696}, {\"Unnamed: 0\": 31, \"M\": 140, \"So\": 0, \"Ed\": 93, \"Po1\": 55, \"Po2\": 54, \"LF\": 535, \"M.F\": 1045, \"Pop\": 6, \"NW\": 20, \"U1\": 135, \"U2\": 40, \"GDP\": 453, \"Ineq\": 200, \"Prob\": 0.041999, \"Time\": 21.7998, \"y\": 373}, {\"Unnamed: 0\": 32, \"M\": 125, \"So\": 0, \"Ed\": 109, \"Po1\": 90, \"Po2\": 81, \"LF\": 586, \"M.F\": 964, \"Pop\": 97, \"NW\": 82, \"U1\": 105, \"U2\": 43, \"GDP\": 617, \"Ineq\": 163, \"Prob\": 0.042698, \"Time\": 30.9014, \"y\": 754}, {\"Unnamed: 0\": 33, \"M\": 147, \"So\": 1, \"Ed\": 104, \"Po1\": 63, \"Po2\": 64, \"LF\": 560, \"M.F\": 972, \"Pop\": 23, \"NW\": 95, \"U1\": 76, \"U2\": 24, \"GDP\": 462, \"Ineq\": 233, \"Prob\": 0.049499, \"Time\": 25.5005, \"y\": 1072}, {\"Unnamed: 0\": 34, \"M\": 126, \"So\": 0, \"Ed\": 118, \"Po1\": 97, \"Po2\": 97, \"LF\": 542, \"M.F\": 990, \"Pop\": 18, \"NW\": 21, \"U1\": 102, \"U2\": 35, \"GDP\": 589, \"Ineq\": 166, \"Prob\": 0.040799, \"Time\": 21.6997, \"y\": 923}, {\"Unnamed: 0\": 35, \"M\": 123, \"So\": 0, \"Ed\": 102, \"Po1\": 97, \"Po2\": 87, \"LF\": 526, \"M.F\": 948, \"Pop\": 113, \"NW\": 76, \"U1\": 124, \"U2\": 50, \"GDP\": 572, \"Ineq\": 158, \"Prob\": 0.0207, \"Time\": 37.4011, \"y\": 653}, {\"Unnamed: 0\": 36, \"M\": 150, \"So\": 0, \"Ed\": 100, \"Po1\": 109, \"Po2\": 98, \"LF\": 531, \"M.F\": 964, \"Pop\": 9, \"NW\": 24, \"U1\": 87, \"U2\": 38, \"GDP\": 559, \"Ineq\": 153, \"Prob\": 0.0069, \"Time\": 44.0004, \"y\": 1272}, {\"Unnamed: 0\": 37, \"M\": 177, \"So\": 1, \"Ed\": 87, \"Po1\": 58, \"Po2\": 56, \"LF\": 638, \"M.F\": 974, \"Pop\": 24, \"NW\": 349, \"U1\": 76, \"U2\": 28, \"GDP\": 382, \"Ineq\": 254, \"Prob\": 0.045198, \"Time\": 31.6995, \"y\": 831}, {\"Unnamed: 0\": 38, \"M\": 133, \"So\": 0, \"Ed\": 104, \"Po1\": 51, \"Po2\": 47, \"LF\": 599, \"M.F\": 1024, \"Pop\": 7, \"NW\": 40, \"U1\": 99, \"U2\": 27, \"GDP\": 425, \"Ineq\": 225, \"Prob\": 0.053998, \"Time\": 16.6999, \"y\": 566}, {\"Unnamed: 0\": 39, \"M\": 149, \"So\": 1, \"Ed\": 88, \"Po1\": 61, \"Po2\": 54, \"LF\": 515, \"M.F\": 953, \"Pop\": 36, \"NW\": 165, \"U1\": 86, \"U2\": 35, \"GDP\": 395, \"Ineq\": 251, \"Prob\": 0.047099, \"Time\": 27.3004, \"y\": 826}, {\"Unnamed: 0\": 40, \"M\": 145, \"So\": 1, \"Ed\": 104, \"Po1\": 82, \"Po2\": 74, \"LF\": 560, \"M.F\": 981, \"Pop\": 96, \"NW\": 126, \"U1\": 88, \"U2\": 31, \"GDP\": 488, \"Ineq\": 228, \"Prob\": 0.038801, \"Time\": 29.3004, \"y\": 1151}, {\"Unnamed: 0\": 41, \"M\": 148, \"So\": 0, \"Ed\": 122, \"Po1\": 72, \"Po2\": 66, \"LF\": 601, \"M.F\": 998, \"Pop\": 9, \"NW\": 19, \"U1\": 84, \"U2\": 20, \"GDP\": 590, \"Ineq\": 144, \"Prob\": 0.0251, \"Time\": 30.0001, \"y\": 880}, {\"Unnamed: 0\": 42, \"M\": 141, \"So\": 0, \"Ed\": 109, \"Po1\": 56, \"Po2\": 54, \"LF\": 523, \"M.F\": 968, \"Pop\": 4, \"NW\": 2, \"U1\": 107, \"U2\": 37, \"GDP\": 489, \"Ineq\": 170, \"Prob\": 0.088904, \"Time\": 12.1996, \"y\": 542}, {\"Unnamed: 0\": 43, \"M\": 162, \"So\": 1, \"Ed\": 99, \"Po1\": 75, \"Po2\": 70, \"LF\": 522, \"M.F\": 996, \"Pop\": 40, \"NW\": 208, \"U1\": 73, \"U2\": 27, \"GDP\": 496, \"Ineq\": 224, \"Prob\": 0.054902, \"Time\": 31.9989, \"y\": 823}, {\"Unnamed: 0\": 44, \"M\": 136, \"So\": 0, \"Ed\": 121, \"Po1\": 95, \"Po2\": 96, \"LF\": 574, \"M.F\": 1012, \"Pop\": 29, \"NW\": 36, \"U1\": 111, \"U2\": 37, \"GDP\": 622, \"Ineq\": 162, \"Prob\": 0.0281, \"Time\": 30.0001, \"y\": 1030}, {\"Unnamed: 0\": 45, \"M\": 139, \"So\": 1, \"Ed\": 88, \"Po1\": 46, \"Po2\": 41, \"LF\": 480, \"M.F\": 968, \"Pop\": 19, \"NW\": 49, \"U1\": 135, \"U2\": 53, \"GDP\": 457, \"Ineq\": 249, \"Prob\": 0.056202, \"Time\": 32.5996, \"y\": 455}, {\"Unnamed: 0\": 46, \"M\": 126, \"So\": 0, \"Ed\": 104, \"Po1\": 106, \"Po2\": 97, \"LF\": 599, \"M.F\": 989, \"Pop\": 40, \"NW\": 24, \"U1\": 78, \"U2\": 25, \"GDP\": 593, \"Ineq\": 171, \"Prob\": 0.046598, \"Time\": 16.6999, \"y\": 508}, {\"Unnamed: 0\": 47, \"M\": 130, \"So\": 0, \"Ed\": 121, \"Po1\": 90, \"Po2\": 91, \"LF\": 623, \"M.F\": 1049, \"Pop\": 3, \"NW\": 22, \"U1\": 113, \"U2\": 40, \"GDP\": 588, \"Ineq\": 160, \"Prob\": 0.052802, \"Time\": 16.0997, \"y\": 849}]}}, {\"mode\": \"vega-lite\"});\n",
       "</script>"
      ],
      "text/plain": [
       "alt.Chart(...)"
      ]
     },
     "execution_count": 5,
     "metadata": {},
     "output_type": "execute_result"
    }
   ],
   "source": [
    "# Scatterplot\n",
    "alt.Chart(data).mark_circle(size=60).encode(\n",
    "    x='So:N',\n",
    "    y='Prob',\n",
    "    tooltip=['So', 'Prob', alt.Tooltip('Unnamed: 0', title=\"Crime\")]\n",
    ").interactive()\n"
   ]
  },
  {
   "cell_type": "code",
   "execution_count": 6,
   "metadata": {},
   "outputs": [
    {
     "ename": "NameError",
     "evalue": "name 'bars' is not defined",
     "output_type": "error",
     "traceback": [
      "\u001b[1;31m---------------------------------------------------------------------------\u001b[0m",
      "\u001b[1;31mNameError\u001b[0m                                 Traceback (most recent call last)",
      "\u001b[1;32mc:\\Users\\Atom\\analysis-output\\Visualizations\\Bivariate\\Paired_T_Visualizations.ipynb Cell 6'\u001b[0m in \u001b[0;36m<module>\u001b[1;34m\u001b[0m\n\u001b[0;32m      <a href='vscode-notebook-cell:/c%3A/Users/Atom/analysis-output/Visualizations/Bivariate/Paired_T_Visualizations.ipynb#ch0000005?line=0'>1</a>\u001b[0m \u001b[39m# Bar Chart\u001b[39;00m\n\u001b[0;32m      <a href='vscode-notebook-cell:/c%3A/Users/Atom/analysis-output/Visualizations/Bivariate/Paired_T_Visualizations.ipynb#ch0000005?line=1'>2</a>\u001b[0m alt\u001b[39m.\u001b[39mChart(data)\u001b[39m.\u001b[39mmark_bar()\u001b[39m.\u001b[39mencode(\n\u001b[0;32m      <a href='vscode-notebook-cell:/c%3A/Users/Atom/analysis-output/Visualizations/Bivariate/Paired_T_Visualizations.ipynb#ch0000005?line=2'>3</a>\u001b[0m     x\u001b[39m=\u001b[39m\u001b[39m'\u001b[39m\u001b[39mSo:N\u001b[39m\u001b[39m'\u001b[39m,\n\u001b[0;32m      <a href='vscode-notebook-cell:/c%3A/Users/Atom/analysis-output/Visualizations/Bivariate/Paired_T_Visualizations.ipynb#ch0000005?line=3'>4</a>\u001b[0m     y\u001b[39m=\u001b[39m\u001b[39m'\u001b[39m\u001b[39mProb\u001b[39m\u001b[39m'\u001b[39m,\n\u001b[0;32m      <a href='vscode-notebook-cell:/c%3A/Users/Atom/analysis-output/Visualizations/Bivariate/Paired_T_Visualizations.ipynb#ch0000005?line=4'>5</a>\u001b[0m     color\u001b[39m=\u001b[39m\u001b[39m'\u001b[39m\u001b[39msite\u001b[39m\u001b[39m'\u001b[39m\n\u001b[0;32m      <a href='vscode-notebook-cell:/c%3A/Users/Atom/analysis-output/Visualizations/Bivariate/Paired_T_Visualizations.ipynb#ch0000005?line=5'>6</a>\u001b[0m )\n\u001b[1;32m----> <a href='vscode-notebook-cell:/c%3A/Users/Atom/analysis-output/Visualizations/Bivariate/Paired_T_Visualizations.ipynb#ch0000005?line=7'>8</a>\u001b[0m error_bars \u001b[39m=\u001b[39m bars\u001b[39m.\u001b[39mmark_rule()\u001b[39m.\u001b[39mencode(\n\u001b[0;32m      <a href='vscode-notebook-cell:/c%3A/Users/Atom/analysis-output/Visualizations/Bivariate/Paired_T_Visualizations.ipynb#ch0000005?line=8'>9</a>\u001b[0m     x\u001b[39m=\u001b[39m\u001b[39m'\u001b[39m\u001b[39mSo:N\u001b[39m\u001b[39m'\u001b[39m,\n\u001b[0;32m     <a href='vscode-notebook-cell:/c%3A/Users/Atom/analysis-output/Visualizations/Bivariate/Paired_T_Visualizations.ipynb#ch0000005?line=9'>10</a>\u001b[0m     y\u001b[39m=\u001b[39m\u001b[39m'\u001b[39m\u001b[39mProb\u001b[39m\u001b[39m'\u001b[39m\n\u001b[0;32m     <a href='vscode-notebook-cell:/c%3A/Users/Atom/analysis-output/Visualizations/Bivariate/Paired_T_Visualizations.ipynb#ch0000005?line=10'>11</a>\u001b[0m )\n",
      "\u001b[1;31mNameError\u001b[0m: name 'bars' is not defined"
     ]
    }
   ],
   "source": [
    "# Bar Chart\n",
    "alt.Chart(data).mark_bar().encode(\n",
    "    x='So:N',\n",
    "    y='Prob',\n",
    "    color='site'\n",
    ")\n",
    "\n",
    "error_bars = bars.mark_rule().encode(\n",
    "    x='So:N',\n",
    "    y='Prob'\n",
    ")"
   ]
  }
 ],
 "metadata": {
  "kernelspec": {
   "display_name": "Python 3 (ipykernel)",
   "language": "python",
   "name": "python3"
  },
  "language_info": {
   "codemirror_mode": {
    "name": "ipython",
    "version": 3
   },
   "file_extension": ".py",
   "mimetype": "text/x-python",
   "name": "python",
   "nbconvert_exporter": "python",
   "pygments_lexer": "ipython3",
   "version": "3.8.10"
  }
 },
 "nbformat": 4,
 "nbformat_minor": 2
}
