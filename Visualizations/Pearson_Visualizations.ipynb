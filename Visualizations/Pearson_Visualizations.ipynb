{
 "cells": [
  {
   "cell_type": "code",
   "execution_count": 5,
   "metadata": {},
   "outputs": [],
   "source": [
    "import altair as alt\n",
    "import pandas as pd\n",
    "import statsmodels as sm\n",
    "from scipy import stats\n",
    "from scipy import stats\n",
    "import numpy as np"
   ]
  },
  {
   "cell_type": "markdown",
   "metadata": {},
   "source": [
    "## Pearson's correlation\n",
    "- 1) Load data \n",
    "- 2) Visualize each possible visualization in a new cell. "
   ]
  },
  {
   "cell_type": "code",
   "execution_count": 16,
   "metadata": {},
   "outputs": [
    {
     "name": "stdout",
     "output_type": "stream",
     "text": [
      "The Pearson correlation did detect a significant correlation between Illiteracy and Life Exp, r(48) = -0.5884779255792575, [-0.74482259 -0.37088108], p = 6.969250466420397e-06\n"
     ]
    }
   ],
   "source": [
    "# Load data\n",
    "data = pd.read_csv(\"https://homes.cs.washington.edu/~emjun/tea-lang/datasets/statex77.csv\")\n",
    "\n",
    "# Execute statistical test\n",
    "var_x = \"Illiteracy\"\n",
    "var_y = \"Life Exp\"\n",
    "\n",
    "illiteracy = data[var_x]\n",
    "life_exp = data[var_y]\n",
    "df = len(life_exp) - 2 \n",
    "r_val, p_val = stats.pearsonr(illiteracy, life_exp)\n",
    "\n",
    "significance = \"did not\"\n",
    "if p_val < 0.05:\n",
    "    significance = \"did\"\n",
    "\n",
    "# Calculate confidence interval\n",
    "r_z = np.arctanh(r_val)\n",
    "stdev = 1/np.sqrt(len(life_exp)-3)\n",
    "alpha = 0.05\n",
    "z = stats.norm.ppf(1-alpha/2)\n",
    "ci = np.tanh((r_z-z*stdev, r_z+z*stdev))\n",
    "\n",
    "print(\"The Pearson correlation \" + significance + \" detect a significant correlation between \" \\\n",
    "        + str(var_x) + \" and \" + str(var_y) + \", r(\" + str(df) + \") = \" + str(r_val) +  \", \" \\\n",
    "        + str(ci) + \", p = \" + str(p_val))"
   ]
  },
  {
   "cell_type": "markdown",
   "metadata": {},
   "source": [
    "### Visualizations"
   ]
  },
  {
   "cell_type": "code",
   "execution_count": 18,
   "metadata": {},
   "outputs": [
    {
     "data": {
      "text/html": [
       "\n",
       "<div id=\"altair-viz-7f6d75b5616e4d2fa68b42bee59a9f5d\"></div>\n",
       "<script type=\"text/javascript\">\n",
       "  var VEGA_DEBUG = (typeof VEGA_DEBUG == \"undefined\") ? {} : VEGA_DEBUG;\n",
       "  (function(spec, embedOpt){\n",
       "    let outputDiv = document.currentScript.previousElementSibling;\n",
       "    if (outputDiv.id !== \"altair-viz-7f6d75b5616e4d2fa68b42bee59a9f5d\") {\n",
       "      outputDiv = document.getElementById(\"altair-viz-7f6d75b5616e4d2fa68b42bee59a9f5d\");\n",
       "    }\n",
       "    const paths = {\n",
       "      \"vega\": \"https://cdn.jsdelivr.net/npm//vega@5?noext\",\n",
       "      \"vega-lib\": \"https://cdn.jsdelivr.net/npm//vega-lib?noext\",\n",
       "      \"vega-lite\": \"https://cdn.jsdelivr.net/npm//vega-lite@4.17.0?noext\",\n",
       "      \"vega-embed\": \"https://cdn.jsdelivr.net/npm//vega-embed@6?noext\",\n",
       "    };\n",
       "\n",
       "    function maybeLoadScript(lib, version) {\n",
       "      var key = `${lib.replace(\"-\", \"\")}_version`;\n",
       "      return (VEGA_DEBUG[key] == version) ?\n",
       "        Promise.resolve(paths[lib]) :\n",
       "        new Promise(function(resolve, reject) {\n",
       "          var s = document.createElement('script');\n",
       "          document.getElementsByTagName(\"head\")[0].appendChild(s);\n",
       "          s.async = true;\n",
       "          s.onload = () => {\n",
       "            VEGA_DEBUG[key] = version;\n",
       "            return resolve(paths[lib]);\n",
       "          };\n",
       "          s.onerror = () => reject(`Error loading script: ${paths[lib]}`);\n",
       "          s.src = paths[lib];\n",
       "        });\n",
       "    }\n",
       "\n",
       "    function showError(err) {\n",
       "      outputDiv.innerHTML = `<div class=\"error\" style=\"color:red;\">${err}</div>`;\n",
       "      throw err;\n",
       "    }\n",
       "\n",
       "    function displayChart(vegaEmbed) {\n",
       "      vegaEmbed(outputDiv, spec, embedOpt)\n",
       "        .catch(err => showError(`Javascript Error: ${err.message}<br>This usually means there's a typo in your chart specification. See the javascript console for the full traceback.`));\n",
       "    }\n",
       "\n",
       "    if(typeof define === \"function\" && define.amd) {\n",
       "      requirejs.config({paths});\n",
       "      require([\"vega-embed\"], displayChart, err => showError(`Error loading script: ${err.message}`));\n",
       "    } else {\n",
       "      maybeLoadScript(\"vega\", \"5\")\n",
       "        .then(() => maybeLoadScript(\"vega-lite\", \"4.17.0\"))\n",
       "        .then(() => maybeLoadScript(\"vega-embed\", \"6\"))\n",
       "        .catch(showError)\n",
       "        .then(() => displayChart(vegaEmbed));\n",
       "    }\n",
       "  })({\"config\": {\"view\": {\"continuousWidth\": 400, \"continuousHeight\": 300}}, \"data\": {\"name\": \"data-2ba29d77fb3ff30b0ea3bd964eaa4d91\"}, \"mark\": {\"type\": \"circle\", \"size\": 60}, \"encoding\": {\"tooltip\": [{\"field\": \"Illiteracy\", \"type\": \"quantitative\"}, {\"field\": \"Life Exp\", \"type\": \"quantitative\"}], \"x\": {\"field\": \"Illiteracy\", \"type\": \"quantitative\"}, \"y\": {\"field\": \"Life Exp\", \"type\": \"quantitative\"}}, \"selection\": {\"selector005\": {\"type\": \"interval\", \"bind\": \"scales\", \"encodings\": [\"x\", \"y\"]}}, \"$schema\": \"https://vega.github.io/schema/vega-lite/v4.17.0.json\", \"datasets\": {\"data-2ba29d77fb3ff30b0ea3bd964eaa4d91\": [{\"Unnamed: 0\": \"Alabama\", \"Population\": 3615, \"Income\": 3624, \"Illiteracy\": 2.1, \"Life Exp\": 69.05, \"Murder\": 15.1, \"HS Grad\": 41.3, \"Frost\": 20, \"Area\": 50708}, {\"Unnamed: 0\": \"Alaska\", \"Population\": 365, \"Income\": 6315, \"Illiteracy\": 1.5, \"Life Exp\": 69.31, \"Murder\": 11.3, \"HS Grad\": 66.7, \"Frost\": 152, \"Area\": 566432}, {\"Unnamed: 0\": \"Arizona\", \"Population\": 2212, \"Income\": 4530, \"Illiteracy\": 1.8, \"Life Exp\": 70.55, \"Murder\": 7.8, \"HS Grad\": 58.1, \"Frost\": 15, \"Area\": 113417}, {\"Unnamed: 0\": \"Arkansas\", \"Population\": 2110, \"Income\": 3378, \"Illiteracy\": 1.9, \"Life Exp\": 70.66, \"Murder\": 10.1, \"HS Grad\": 39.9, \"Frost\": 65, \"Area\": 51945}, {\"Unnamed: 0\": \"California\", \"Population\": 21198, \"Income\": 5114, \"Illiteracy\": 1.1, \"Life Exp\": 71.71, \"Murder\": 10.3, \"HS Grad\": 62.6, \"Frost\": 20, \"Area\": 156361}, {\"Unnamed: 0\": \"Colorado\", \"Population\": 2541, \"Income\": 4884, \"Illiteracy\": 0.7, \"Life Exp\": 72.06, \"Murder\": 6.8, \"HS Grad\": 63.9, \"Frost\": 166, \"Area\": 103766}, {\"Unnamed: 0\": \"Connecticut\", \"Population\": 3100, \"Income\": 5348, \"Illiteracy\": 1.1, \"Life Exp\": 72.48, \"Murder\": 3.1, \"HS Grad\": 56.0, \"Frost\": 139, \"Area\": 4862}, {\"Unnamed: 0\": \"Delaware\", \"Population\": 579, \"Income\": 4809, \"Illiteracy\": 0.9, \"Life Exp\": 70.06, \"Murder\": 6.2, \"HS Grad\": 54.6, \"Frost\": 103, \"Area\": 1982}, {\"Unnamed: 0\": \"Florida\", \"Population\": 8277, \"Income\": 4815, \"Illiteracy\": 1.3, \"Life Exp\": 70.66, \"Murder\": 10.7, \"HS Grad\": 52.6, \"Frost\": 11, \"Area\": 54090}, {\"Unnamed: 0\": \"Georgia\", \"Population\": 4931, \"Income\": 4091, \"Illiteracy\": 2.0, \"Life Exp\": 68.54, \"Murder\": 13.9, \"HS Grad\": 40.6, \"Frost\": 60, \"Area\": 58073}, {\"Unnamed: 0\": \"Hawaii\", \"Population\": 868, \"Income\": 4963, \"Illiteracy\": 1.9, \"Life Exp\": 73.6, \"Murder\": 6.2, \"HS Grad\": 61.9, \"Frost\": 0, \"Area\": 6425}, {\"Unnamed: 0\": \"Idaho\", \"Population\": 813, \"Income\": 4119, \"Illiteracy\": 0.6, \"Life Exp\": 71.87, \"Murder\": 5.3, \"HS Grad\": 59.5, \"Frost\": 126, \"Area\": 82677}, {\"Unnamed: 0\": \"Illinois\", \"Population\": 11197, \"Income\": 5107, \"Illiteracy\": 0.9, \"Life Exp\": 70.14, \"Murder\": 10.3, \"HS Grad\": 52.6, \"Frost\": 127, \"Area\": 55748}, {\"Unnamed: 0\": \"Indiana\", \"Population\": 5313, \"Income\": 4458, \"Illiteracy\": 0.7, \"Life Exp\": 70.88, \"Murder\": 7.1, \"HS Grad\": 52.9, \"Frost\": 122, \"Area\": 36097}, {\"Unnamed: 0\": \"Iowa\", \"Population\": 2861, \"Income\": 4628, \"Illiteracy\": 0.5, \"Life Exp\": 72.56, \"Murder\": 2.3, \"HS Grad\": 59.0, \"Frost\": 140, \"Area\": 55941}, {\"Unnamed: 0\": \"Kansas\", \"Population\": 2280, \"Income\": 4669, \"Illiteracy\": 0.6, \"Life Exp\": 72.58, \"Murder\": 4.5, \"HS Grad\": 59.9, \"Frost\": 114, \"Area\": 81787}, {\"Unnamed: 0\": \"Kentucky\", \"Population\": 3387, \"Income\": 3712, \"Illiteracy\": 1.6, \"Life Exp\": 70.1, \"Murder\": 10.6, \"HS Grad\": 38.5, \"Frost\": 95, \"Area\": 39650}, {\"Unnamed: 0\": \"Louisiana\", \"Population\": 3806, \"Income\": 3545, \"Illiteracy\": 2.8, \"Life Exp\": 68.76, \"Murder\": 13.2, \"HS Grad\": 42.2, \"Frost\": 12, \"Area\": 44930}, {\"Unnamed: 0\": \"Maine\", \"Population\": 1058, \"Income\": 3694, \"Illiteracy\": 0.7, \"Life Exp\": 70.39, \"Murder\": 2.7, \"HS Grad\": 54.7, \"Frost\": 161, \"Area\": 30920}, {\"Unnamed: 0\": \"Maryland\", \"Population\": 4122, \"Income\": 5299, \"Illiteracy\": 0.9, \"Life Exp\": 70.22, \"Murder\": 8.5, \"HS Grad\": 52.3, \"Frost\": 101, \"Area\": 9891}, {\"Unnamed: 0\": \"Massachusetts\", \"Population\": 5814, \"Income\": 4755, \"Illiteracy\": 1.1, \"Life Exp\": 71.83, \"Murder\": 3.3, \"HS Grad\": 58.5, \"Frost\": 103, \"Area\": 7826}, {\"Unnamed: 0\": \"Michigan\", \"Population\": 9111, \"Income\": 4751, \"Illiteracy\": 0.9, \"Life Exp\": 70.63, \"Murder\": 11.1, \"HS Grad\": 52.8, \"Frost\": 125, \"Area\": 56817}, {\"Unnamed: 0\": \"Minnesota\", \"Population\": 3921, \"Income\": 4675, \"Illiteracy\": 0.6, \"Life Exp\": 72.96, \"Murder\": 2.3, \"HS Grad\": 57.6, \"Frost\": 160, \"Area\": 79289}, {\"Unnamed: 0\": \"Mississippi\", \"Population\": 2341, \"Income\": 3098, \"Illiteracy\": 2.4, \"Life Exp\": 68.09, \"Murder\": 12.5, \"HS Grad\": 41.0, \"Frost\": 50, \"Area\": 47296}, {\"Unnamed: 0\": \"Missouri\", \"Population\": 4767, \"Income\": 4254, \"Illiteracy\": 0.8, \"Life Exp\": 70.69, \"Murder\": 9.3, \"HS Grad\": 48.8, \"Frost\": 108, \"Area\": 68995}, {\"Unnamed: 0\": \"Montana\", \"Population\": 746, \"Income\": 4347, \"Illiteracy\": 0.6, \"Life Exp\": 70.56, \"Murder\": 5.0, \"HS Grad\": 59.2, \"Frost\": 155, \"Area\": 145587}, {\"Unnamed: 0\": \"Nebraska\", \"Population\": 1544, \"Income\": 4508, \"Illiteracy\": 0.6, \"Life Exp\": 72.6, \"Murder\": 2.9, \"HS Grad\": 59.3, \"Frost\": 139, \"Area\": 76483}, {\"Unnamed: 0\": \"Nevada\", \"Population\": 590, \"Income\": 5149, \"Illiteracy\": 0.5, \"Life Exp\": 69.03, \"Murder\": 11.5, \"HS Grad\": 65.2, \"Frost\": 188, \"Area\": 109889}, {\"Unnamed: 0\": \"New Hampshire\", \"Population\": 812, \"Income\": 4281, \"Illiteracy\": 0.7, \"Life Exp\": 71.23, \"Murder\": 3.3, \"HS Grad\": 57.6, \"Frost\": 174, \"Area\": 9027}, {\"Unnamed: 0\": \"New Jersey\", \"Population\": 7333, \"Income\": 5237, \"Illiteracy\": 1.1, \"Life Exp\": 70.93, \"Murder\": 5.2, \"HS Grad\": 52.5, \"Frost\": 115, \"Area\": 7521}, {\"Unnamed: 0\": \"New Mexico\", \"Population\": 1144, \"Income\": 3601, \"Illiteracy\": 2.2, \"Life Exp\": 70.32, \"Murder\": 9.7, \"HS Grad\": 55.2, \"Frost\": 120, \"Area\": 121412}, {\"Unnamed: 0\": \"New York\", \"Population\": 18076, \"Income\": 4903, \"Illiteracy\": 1.4, \"Life Exp\": 70.55, \"Murder\": 10.9, \"HS Grad\": 52.7, \"Frost\": 82, \"Area\": 47831}, {\"Unnamed: 0\": \"North Carolina\", \"Population\": 5441, \"Income\": 3875, \"Illiteracy\": 1.8, \"Life Exp\": 69.21, \"Murder\": 11.1, \"HS Grad\": 38.5, \"Frost\": 80, \"Area\": 48798}, {\"Unnamed: 0\": \"North Dakota\", \"Population\": 637, \"Income\": 5087, \"Illiteracy\": 0.8, \"Life Exp\": 72.78, \"Murder\": 1.4, \"HS Grad\": 50.3, \"Frost\": 186, \"Area\": 69273}, {\"Unnamed: 0\": \"Ohio\", \"Population\": 10735, \"Income\": 4561, \"Illiteracy\": 0.8, \"Life Exp\": 70.82, \"Murder\": 7.4, \"HS Grad\": 53.2, \"Frost\": 124, \"Area\": 40975}, {\"Unnamed: 0\": \"Oklahoma\", \"Population\": 2715, \"Income\": 3983, \"Illiteracy\": 1.1, \"Life Exp\": 71.42, \"Murder\": 6.4, \"HS Grad\": 51.6, \"Frost\": 82, \"Area\": 68782}, {\"Unnamed: 0\": \"Oregon\", \"Population\": 2284, \"Income\": 4660, \"Illiteracy\": 0.6, \"Life Exp\": 72.13, \"Murder\": 4.2, \"HS Grad\": 60.0, \"Frost\": 44, \"Area\": 96184}, {\"Unnamed: 0\": \"Pennsylvania\", \"Population\": 11860, \"Income\": 4449, \"Illiteracy\": 1.0, \"Life Exp\": 70.43, \"Murder\": 6.1, \"HS Grad\": 50.2, \"Frost\": 126, \"Area\": 44966}, {\"Unnamed: 0\": \"Rhode Island\", \"Population\": 931, \"Income\": 4558, \"Illiteracy\": 1.3, \"Life Exp\": 71.9, \"Murder\": 2.4, \"HS Grad\": 46.4, \"Frost\": 127, \"Area\": 1049}, {\"Unnamed: 0\": \"South Carolina\", \"Population\": 2816, \"Income\": 3635, \"Illiteracy\": 2.3, \"Life Exp\": 67.96, \"Murder\": 11.6, \"HS Grad\": 37.8, \"Frost\": 65, \"Area\": 30225}, {\"Unnamed: 0\": \"South Dakota\", \"Population\": 681, \"Income\": 4167, \"Illiteracy\": 0.5, \"Life Exp\": 72.08, \"Murder\": 1.7, \"HS Grad\": 53.3, \"Frost\": 172, \"Area\": 75955}, {\"Unnamed: 0\": \"Tennessee\", \"Population\": 4173, \"Income\": 3821, \"Illiteracy\": 1.7, \"Life Exp\": 70.11, \"Murder\": 11.0, \"HS Grad\": 41.8, \"Frost\": 70, \"Area\": 41328}, {\"Unnamed: 0\": \"Texas\", \"Population\": 12237, \"Income\": 4188, \"Illiteracy\": 2.2, \"Life Exp\": 70.9, \"Murder\": 12.2, \"HS Grad\": 47.4, \"Frost\": 35, \"Area\": 262134}, {\"Unnamed: 0\": \"Utah\", \"Population\": 1203, \"Income\": 4022, \"Illiteracy\": 0.6, \"Life Exp\": 72.9, \"Murder\": 4.5, \"HS Grad\": 67.3, \"Frost\": 137, \"Area\": 82096}, {\"Unnamed: 0\": \"Vermont\", \"Population\": 472, \"Income\": 3907, \"Illiteracy\": 0.6, \"Life Exp\": 71.64, \"Murder\": 5.5, \"HS Grad\": 57.1, \"Frost\": 168, \"Area\": 9267}, {\"Unnamed: 0\": \"Virginia\", \"Population\": 4981, \"Income\": 4701, \"Illiteracy\": 1.4, \"Life Exp\": 70.08, \"Murder\": 9.5, \"HS Grad\": 47.8, \"Frost\": 85, \"Area\": 39780}, {\"Unnamed: 0\": \"Washington\", \"Population\": 3559, \"Income\": 4864, \"Illiteracy\": 0.6, \"Life Exp\": 71.72, \"Murder\": 4.3, \"HS Grad\": 63.5, \"Frost\": 32, \"Area\": 66570}, {\"Unnamed: 0\": \"West Virginia\", \"Population\": 1799, \"Income\": 3617, \"Illiteracy\": 1.4, \"Life Exp\": 69.48, \"Murder\": 6.7, \"HS Grad\": 41.6, \"Frost\": 100, \"Area\": 24070}, {\"Unnamed: 0\": \"Wisconsin\", \"Population\": 4589, \"Income\": 4468, \"Illiteracy\": 0.7, \"Life Exp\": 72.48, \"Murder\": 3.0, \"HS Grad\": 54.5, \"Frost\": 149, \"Area\": 54464}, {\"Unnamed: 0\": \"Wyoming\", \"Population\": 376, \"Income\": 4566, \"Illiteracy\": 0.6, \"Life Exp\": 70.29, \"Murder\": 6.9, \"HS Grad\": 62.9, \"Frost\": 173, \"Area\": 97203}]}}, {\"mode\": \"vega-lite\"});\n",
       "</script>"
      ],
      "text/plain": [
       "alt.Chart(...)"
      ]
     },
     "execution_count": 18,
     "metadata": {},
     "output_type": "execute_result"
    }
   ],
   "source": [
    "# Visualize statistical test result using Franconceri recommendations\n",
    "# Scatterplot\n",
    "alt.Chart(data).mark_circle(size=60).encode(\n",
    "    x='Illiteracy',\n",
    "    y='Life Exp',\n",
    "    tooltip=['Illiteracy', 'Life Exp']\n",
    ").interactive()\n",
    "\n",
    "# WBN: Add state name to tooltip"
   ]
  },
  {
   "cell_type": "code",
   "execution_count": 20,
   "metadata": {},
   "outputs": [
    {
     "data": {
      "text/html": [
       "\n",
       "<div id=\"altair-viz-49e7b158ccaf4578899eae9cd2e699a3\"></div>\n",
       "<script type=\"text/javascript\">\n",
       "  var VEGA_DEBUG = (typeof VEGA_DEBUG == \"undefined\") ? {} : VEGA_DEBUG;\n",
       "  (function(spec, embedOpt){\n",
       "    let outputDiv = document.currentScript.previousElementSibling;\n",
       "    if (outputDiv.id !== \"altair-viz-49e7b158ccaf4578899eae9cd2e699a3\") {\n",
       "      outputDiv = document.getElementById(\"altair-viz-49e7b158ccaf4578899eae9cd2e699a3\");\n",
       "    }\n",
       "    const paths = {\n",
       "      \"vega\": \"https://cdn.jsdelivr.net/npm//vega@5?noext\",\n",
       "      \"vega-lib\": \"https://cdn.jsdelivr.net/npm//vega-lib?noext\",\n",
       "      \"vega-lite\": \"https://cdn.jsdelivr.net/npm//vega-lite@4.17.0?noext\",\n",
       "      \"vega-embed\": \"https://cdn.jsdelivr.net/npm//vega-embed@6?noext\",\n",
       "    };\n",
       "\n",
       "    function maybeLoadScript(lib, version) {\n",
       "      var key = `${lib.replace(\"-\", \"\")}_version`;\n",
       "      return (VEGA_DEBUG[key] == version) ?\n",
       "        Promise.resolve(paths[lib]) :\n",
       "        new Promise(function(resolve, reject) {\n",
       "          var s = document.createElement('script');\n",
       "          document.getElementsByTagName(\"head\")[0].appendChild(s);\n",
       "          s.async = true;\n",
       "          s.onload = () => {\n",
       "            VEGA_DEBUG[key] = version;\n",
       "            return resolve(paths[lib]);\n",
       "          };\n",
       "          s.onerror = () => reject(`Error loading script: ${paths[lib]}`);\n",
       "          s.src = paths[lib];\n",
       "        });\n",
       "    }\n",
       "\n",
       "    function showError(err) {\n",
       "      outputDiv.innerHTML = `<div class=\"error\" style=\"color:red;\">${err}</div>`;\n",
       "      throw err;\n",
       "    }\n",
       "\n",
       "    function displayChart(vegaEmbed) {\n",
       "      vegaEmbed(outputDiv, spec, embedOpt)\n",
       "        .catch(err => showError(`Javascript Error: ${err.message}<br>This usually means there's a typo in your chart specification. See the javascript console for the full traceback.`));\n",
       "    }\n",
       "\n",
       "    if(typeof define === \"function\" && define.amd) {\n",
       "      requirejs.config({paths});\n",
       "      require([\"vega-embed\"], displayChart, err => showError(`Error loading script: ${err.message}`));\n",
       "    } else {\n",
       "      maybeLoadScript(\"vega\", \"5\")\n",
       "        .then(() => maybeLoadScript(\"vega-lite\", \"4.17.0\"))\n",
       "        .then(() => maybeLoadScript(\"vega-embed\", \"6\"))\n",
       "        .catch(showError)\n",
       "        .then(() => displayChart(vegaEmbed));\n",
       "    }\n",
       "  })({\"config\": {\"view\": {\"continuousWidth\": 400, \"continuousHeight\": 300}}, \"data\": {\"name\": \"data-2ba29d77fb3ff30b0ea3bd964eaa4d91\"}, \"mark\": \"line\", \"encoding\": {\"detail\": {\"field\": \"index\", \"type\": \"nominal\"}, \"opacity\": {\"value\": 0.5}, \"x\": {\"field\": \"key\", \"type\": \"nominal\"}, \"y\": {\"field\": \"value\", \"type\": \"quantitative\"}}, \"transform\": [{\"window\": [{\"op\": \"count\", \"as\": \"index\"}]}, {\"fold\": [\"Illiteracy\", \"Life Exp\"]}], \"width\": 500, \"$schema\": \"https://vega.github.io/schema/vega-lite/v4.17.0.json\", \"datasets\": {\"data-2ba29d77fb3ff30b0ea3bd964eaa4d91\": [{\"Unnamed: 0\": \"Alabama\", \"Population\": 3615, \"Income\": 3624, \"Illiteracy\": 2.1, \"Life Exp\": 69.05, \"Murder\": 15.1, \"HS Grad\": 41.3, \"Frost\": 20, \"Area\": 50708}, {\"Unnamed: 0\": \"Alaska\", \"Population\": 365, \"Income\": 6315, \"Illiteracy\": 1.5, \"Life Exp\": 69.31, \"Murder\": 11.3, \"HS Grad\": 66.7, \"Frost\": 152, \"Area\": 566432}, {\"Unnamed: 0\": \"Arizona\", \"Population\": 2212, \"Income\": 4530, \"Illiteracy\": 1.8, \"Life Exp\": 70.55, \"Murder\": 7.8, \"HS Grad\": 58.1, \"Frost\": 15, \"Area\": 113417}, {\"Unnamed: 0\": \"Arkansas\", \"Population\": 2110, \"Income\": 3378, \"Illiteracy\": 1.9, \"Life Exp\": 70.66, \"Murder\": 10.1, \"HS Grad\": 39.9, \"Frost\": 65, \"Area\": 51945}, {\"Unnamed: 0\": \"California\", \"Population\": 21198, \"Income\": 5114, \"Illiteracy\": 1.1, \"Life Exp\": 71.71, \"Murder\": 10.3, \"HS Grad\": 62.6, \"Frost\": 20, \"Area\": 156361}, {\"Unnamed: 0\": \"Colorado\", \"Population\": 2541, \"Income\": 4884, \"Illiteracy\": 0.7, \"Life Exp\": 72.06, \"Murder\": 6.8, \"HS Grad\": 63.9, \"Frost\": 166, \"Area\": 103766}, {\"Unnamed: 0\": \"Connecticut\", \"Population\": 3100, \"Income\": 5348, \"Illiteracy\": 1.1, \"Life Exp\": 72.48, \"Murder\": 3.1, \"HS Grad\": 56.0, \"Frost\": 139, \"Area\": 4862}, {\"Unnamed: 0\": \"Delaware\", \"Population\": 579, \"Income\": 4809, \"Illiteracy\": 0.9, \"Life Exp\": 70.06, \"Murder\": 6.2, \"HS Grad\": 54.6, \"Frost\": 103, \"Area\": 1982}, {\"Unnamed: 0\": \"Florida\", \"Population\": 8277, \"Income\": 4815, \"Illiteracy\": 1.3, \"Life Exp\": 70.66, \"Murder\": 10.7, \"HS Grad\": 52.6, \"Frost\": 11, \"Area\": 54090}, {\"Unnamed: 0\": \"Georgia\", \"Population\": 4931, \"Income\": 4091, \"Illiteracy\": 2.0, \"Life Exp\": 68.54, \"Murder\": 13.9, \"HS Grad\": 40.6, \"Frost\": 60, \"Area\": 58073}, {\"Unnamed: 0\": \"Hawaii\", \"Population\": 868, \"Income\": 4963, \"Illiteracy\": 1.9, \"Life Exp\": 73.6, \"Murder\": 6.2, \"HS Grad\": 61.9, \"Frost\": 0, \"Area\": 6425}, {\"Unnamed: 0\": \"Idaho\", \"Population\": 813, \"Income\": 4119, \"Illiteracy\": 0.6, \"Life Exp\": 71.87, \"Murder\": 5.3, \"HS Grad\": 59.5, \"Frost\": 126, \"Area\": 82677}, {\"Unnamed: 0\": \"Illinois\", \"Population\": 11197, \"Income\": 5107, \"Illiteracy\": 0.9, \"Life Exp\": 70.14, \"Murder\": 10.3, \"HS Grad\": 52.6, \"Frost\": 127, \"Area\": 55748}, {\"Unnamed: 0\": \"Indiana\", \"Population\": 5313, \"Income\": 4458, \"Illiteracy\": 0.7, \"Life Exp\": 70.88, \"Murder\": 7.1, \"HS Grad\": 52.9, \"Frost\": 122, \"Area\": 36097}, {\"Unnamed: 0\": \"Iowa\", \"Population\": 2861, \"Income\": 4628, \"Illiteracy\": 0.5, \"Life Exp\": 72.56, \"Murder\": 2.3, \"HS Grad\": 59.0, \"Frost\": 140, \"Area\": 55941}, {\"Unnamed: 0\": \"Kansas\", \"Population\": 2280, \"Income\": 4669, \"Illiteracy\": 0.6, \"Life Exp\": 72.58, \"Murder\": 4.5, \"HS Grad\": 59.9, \"Frost\": 114, \"Area\": 81787}, {\"Unnamed: 0\": \"Kentucky\", \"Population\": 3387, \"Income\": 3712, \"Illiteracy\": 1.6, \"Life Exp\": 70.1, \"Murder\": 10.6, \"HS Grad\": 38.5, \"Frost\": 95, \"Area\": 39650}, {\"Unnamed: 0\": \"Louisiana\", \"Population\": 3806, \"Income\": 3545, \"Illiteracy\": 2.8, \"Life Exp\": 68.76, \"Murder\": 13.2, \"HS Grad\": 42.2, \"Frost\": 12, \"Area\": 44930}, {\"Unnamed: 0\": \"Maine\", \"Population\": 1058, \"Income\": 3694, \"Illiteracy\": 0.7, \"Life Exp\": 70.39, \"Murder\": 2.7, \"HS Grad\": 54.7, \"Frost\": 161, \"Area\": 30920}, {\"Unnamed: 0\": \"Maryland\", \"Population\": 4122, \"Income\": 5299, \"Illiteracy\": 0.9, \"Life Exp\": 70.22, \"Murder\": 8.5, \"HS Grad\": 52.3, \"Frost\": 101, \"Area\": 9891}, {\"Unnamed: 0\": \"Massachusetts\", \"Population\": 5814, \"Income\": 4755, \"Illiteracy\": 1.1, \"Life Exp\": 71.83, \"Murder\": 3.3, \"HS Grad\": 58.5, \"Frost\": 103, \"Area\": 7826}, {\"Unnamed: 0\": \"Michigan\", \"Population\": 9111, \"Income\": 4751, \"Illiteracy\": 0.9, \"Life Exp\": 70.63, \"Murder\": 11.1, \"HS Grad\": 52.8, \"Frost\": 125, \"Area\": 56817}, {\"Unnamed: 0\": \"Minnesota\", \"Population\": 3921, \"Income\": 4675, \"Illiteracy\": 0.6, \"Life Exp\": 72.96, \"Murder\": 2.3, \"HS Grad\": 57.6, \"Frost\": 160, \"Area\": 79289}, {\"Unnamed: 0\": \"Mississippi\", \"Population\": 2341, \"Income\": 3098, \"Illiteracy\": 2.4, \"Life Exp\": 68.09, \"Murder\": 12.5, \"HS Grad\": 41.0, \"Frost\": 50, \"Area\": 47296}, {\"Unnamed: 0\": \"Missouri\", \"Population\": 4767, \"Income\": 4254, \"Illiteracy\": 0.8, \"Life Exp\": 70.69, \"Murder\": 9.3, \"HS Grad\": 48.8, \"Frost\": 108, \"Area\": 68995}, {\"Unnamed: 0\": \"Montana\", \"Population\": 746, \"Income\": 4347, \"Illiteracy\": 0.6, \"Life Exp\": 70.56, \"Murder\": 5.0, \"HS Grad\": 59.2, \"Frost\": 155, \"Area\": 145587}, {\"Unnamed: 0\": \"Nebraska\", \"Population\": 1544, \"Income\": 4508, \"Illiteracy\": 0.6, \"Life Exp\": 72.6, \"Murder\": 2.9, \"HS Grad\": 59.3, \"Frost\": 139, \"Area\": 76483}, {\"Unnamed: 0\": \"Nevada\", \"Population\": 590, \"Income\": 5149, \"Illiteracy\": 0.5, \"Life Exp\": 69.03, \"Murder\": 11.5, \"HS Grad\": 65.2, \"Frost\": 188, \"Area\": 109889}, {\"Unnamed: 0\": \"New Hampshire\", \"Population\": 812, \"Income\": 4281, \"Illiteracy\": 0.7, \"Life Exp\": 71.23, \"Murder\": 3.3, \"HS Grad\": 57.6, \"Frost\": 174, \"Area\": 9027}, {\"Unnamed: 0\": \"New Jersey\", \"Population\": 7333, \"Income\": 5237, \"Illiteracy\": 1.1, \"Life Exp\": 70.93, \"Murder\": 5.2, \"HS Grad\": 52.5, \"Frost\": 115, \"Area\": 7521}, {\"Unnamed: 0\": \"New Mexico\", \"Population\": 1144, \"Income\": 3601, \"Illiteracy\": 2.2, \"Life Exp\": 70.32, \"Murder\": 9.7, \"HS Grad\": 55.2, \"Frost\": 120, \"Area\": 121412}, {\"Unnamed: 0\": \"New York\", \"Population\": 18076, \"Income\": 4903, \"Illiteracy\": 1.4, \"Life Exp\": 70.55, \"Murder\": 10.9, \"HS Grad\": 52.7, \"Frost\": 82, \"Area\": 47831}, {\"Unnamed: 0\": \"North Carolina\", \"Population\": 5441, \"Income\": 3875, \"Illiteracy\": 1.8, \"Life Exp\": 69.21, \"Murder\": 11.1, \"HS Grad\": 38.5, \"Frost\": 80, \"Area\": 48798}, {\"Unnamed: 0\": \"North Dakota\", \"Population\": 637, \"Income\": 5087, \"Illiteracy\": 0.8, \"Life Exp\": 72.78, \"Murder\": 1.4, \"HS Grad\": 50.3, \"Frost\": 186, \"Area\": 69273}, {\"Unnamed: 0\": \"Ohio\", \"Population\": 10735, \"Income\": 4561, \"Illiteracy\": 0.8, \"Life Exp\": 70.82, \"Murder\": 7.4, \"HS Grad\": 53.2, \"Frost\": 124, \"Area\": 40975}, {\"Unnamed: 0\": \"Oklahoma\", \"Population\": 2715, \"Income\": 3983, \"Illiteracy\": 1.1, \"Life Exp\": 71.42, \"Murder\": 6.4, \"HS Grad\": 51.6, \"Frost\": 82, \"Area\": 68782}, {\"Unnamed: 0\": \"Oregon\", \"Population\": 2284, \"Income\": 4660, \"Illiteracy\": 0.6, \"Life Exp\": 72.13, \"Murder\": 4.2, \"HS Grad\": 60.0, \"Frost\": 44, \"Area\": 96184}, {\"Unnamed: 0\": \"Pennsylvania\", \"Population\": 11860, \"Income\": 4449, \"Illiteracy\": 1.0, \"Life Exp\": 70.43, \"Murder\": 6.1, \"HS Grad\": 50.2, \"Frost\": 126, \"Area\": 44966}, {\"Unnamed: 0\": \"Rhode Island\", \"Population\": 931, \"Income\": 4558, \"Illiteracy\": 1.3, \"Life Exp\": 71.9, \"Murder\": 2.4, \"HS Grad\": 46.4, \"Frost\": 127, \"Area\": 1049}, {\"Unnamed: 0\": \"South Carolina\", \"Population\": 2816, \"Income\": 3635, \"Illiteracy\": 2.3, \"Life Exp\": 67.96, \"Murder\": 11.6, \"HS Grad\": 37.8, \"Frost\": 65, \"Area\": 30225}, {\"Unnamed: 0\": \"South Dakota\", \"Population\": 681, \"Income\": 4167, \"Illiteracy\": 0.5, \"Life Exp\": 72.08, \"Murder\": 1.7, \"HS Grad\": 53.3, \"Frost\": 172, \"Area\": 75955}, {\"Unnamed: 0\": \"Tennessee\", \"Population\": 4173, \"Income\": 3821, \"Illiteracy\": 1.7, \"Life Exp\": 70.11, \"Murder\": 11.0, \"HS Grad\": 41.8, \"Frost\": 70, \"Area\": 41328}, {\"Unnamed: 0\": \"Texas\", \"Population\": 12237, \"Income\": 4188, \"Illiteracy\": 2.2, \"Life Exp\": 70.9, \"Murder\": 12.2, \"HS Grad\": 47.4, \"Frost\": 35, \"Area\": 262134}, {\"Unnamed: 0\": \"Utah\", \"Population\": 1203, \"Income\": 4022, \"Illiteracy\": 0.6, \"Life Exp\": 72.9, \"Murder\": 4.5, \"HS Grad\": 67.3, \"Frost\": 137, \"Area\": 82096}, {\"Unnamed: 0\": \"Vermont\", \"Population\": 472, \"Income\": 3907, \"Illiteracy\": 0.6, \"Life Exp\": 71.64, \"Murder\": 5.5, \"HS Grad\": 57.1, \"Frost\": 168, \"Area\": 9267}, {\"Unnamed: 0\": \"Virginia\", \"Population\": 4981, \"Income\": 4701, \"Illiteracy\": 1.4, \"Life Exp\": 70.08, \"Murder\": 9.5, \"HS Grad\": 47.8, \"Frost\": 85, \"Area\": 39780}, {\"Unnamed: 0\": \"Washington\", \"Population\": 3559, \"Income\": 4864, \"Illiteracy\": 0.6, \"Life Exp\": 71.72, \"Murder\": 4.3, \"HS Grad\": 63.5, \"Frost\": 32, \"Area\": 66570}, {\"Unnamed: 0\": \"West Virginia\", \"Population\": 1799, \"Income\": 3617, \"Illiteracy\": 1.4, \"Life Exp\": 69.48, \"Murder\": 6.7, \"HS Grad\": 41.6, \"Frost\": 100, \"Area\": 24070}, {\"Unnamed: 0\": \"Wisconsin\", \"Population\": 4589, \"Income\": 4468, \"Illiteracy\": 0.7, \"Life Exp\": 72.48, \"Murder\": 3.0, \"HS Grad\": 54.5, \"Frost\": 149, \"Area\": 54464}, {\"Unnamed: 0\": \"Wyoming\", \"Population\": 376, \"Income\": 4566, \"Illiteracy\": 0.6, \"Life Exp\": 70.29, \"Murder\": 6.9, \"HS Grad\": 62.9, \"Frost\": 173, \"Area\": 97203}]}}, {\"mode\": \"vega-lite\"});\n",
       "</script>"
      ],
      "text/plain": [
       "alt.Chart(...)"
      ]
     },
     "execution_count": 20,
     "metadata": {},
     "output_type": "execute_result"
    }
   ],
   "source": [
    "# Parallel Coordinates\n",
    "alt.Chart(data).transform_window(\n",
    "    index='count()'\n",
    ").transform_fold(\n",
    "    ['Illiteracy', 'Life Exp']\n",
    ").mark_line().encode(\n",
    "    x='key:N',\n",
    "    y='value:Q',\n",
    "    detail='index:N',\n",
    "    opacity=alt.value(0.5)\n",
    ").properties(width=500)"
   ]
  },
  {
   "cell_type": "code",
   "execution_count": 21,
   "metadata": {},
   "outputs": [],
   "source": [
    "# Any other visualizations that you think would be beneficial and you want to explore. "
   ]
  }
 ],
 "metadata": {
  "kernelspec": {
   "display_name": "Python 3 (ipykernel)",
   "language": "python",
   "name": "python3"
  },
  "language_info": {
   "codemirror_mode": {
    "name": "ipython",
    "version": 3
   },
   "file_extension": ".py",
   "mimetype": "text/x-python",
   "name": "python",
   "nbconvert_exporter": "python",
   "pygments_lexer": "ipython3",
   "version": "3.9.0"
  }
 },
 "nbformat": 4,
 "nbformat_minor": 2
}
