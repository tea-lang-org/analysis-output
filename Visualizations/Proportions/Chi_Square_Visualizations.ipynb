{
 "cells": [
  {
   "cell_type": "code",
   "execution_count": 36,
   "metadata": {},
   "outputs": [],
   "source": [
    "import altair as alt\n",
    "import pandas as pd\n",
    "import statsmodels as sm\n",
    "from scipy import stats\n",
    "import numpy as np"
   ]
  },
  {
   "cell_type": "markdown",
   "metadata": {},
   "source": [
    "## Chi-Square Test"
   ]
  },
  {
   "cell_type": "code",
   "execution_count": 21,
   "metadata": {},
   "outputs": [],
   "source": [
    "def chi_square(var_x, var_y, data):\n",
    "    var_0_groups = data[var_x].unique()\n",
    "    var_1_groups = data[var_y].unique()\n",
    "    ssize = len(var_x)  # Correctness?\n",
    "\n",
    "    contingency_table = []\n",
    "    for group_0 in var_0_groups:\n",
    "        table_row = []\n",
    "        for group_1 in var_1_groups:\n",
    "            data_new = data[var_y][(data[var_x] == group_0) & (data[var_y] == group_1)]\n",
    "            table_row.append(len(data_new))\n",
    "\n",
    "        contingency_table.append(table_row)\n",
    "\n",
    "    chi2, p_val, dof, expected = stats.chi2_contingency(contingency_table, correction=False)\n",
    "\n",
    "    significance = \"did not\"\n",
    "    if p_val < 0.05:\n",
    "        significance = \"did\"\n",
    "\n",
    "    p_string = \"p = \" + \"{0:.3f}\".format(p_val).lstrip('0')\n",
    "    if p_val < 0.001:\n",
    "        p_string = \"p < .001\"\n",
    "\n",
    "    chi2_string = \"X^2(\" + str(dof) + \", N = \" + str(ssize) + \") = \" + \"{0:.3f}\".format(chi2)\n",
    "\n",
    "    print(\"The X^2 test \" + significance + \" detect a significant association between \" \\\n",
    "            + str(var_x) + \" and \" + str(var_y) + \", \" + chi2_string +  \", \" + p_string)\n",
    "\n",
    "    return expected"
   ]
  },
  {
   "cell_type": "code",
   "execution_count": 38,
   "metadata": {},
   "outputs": [
    {
     "name": "stdout",
     "output_type": "stream",
     "text": [
      "The X^2 test did detect a significant association between Training and Dance, X^2(1, N = 8) = 25.356, p < .001\n",
      "[[ 23.56  14.44]\n",
      " [100.44  61.56]]\n"
     ]
    }
   ],
   "source": [
    "# Load data\n",
    "data = pd.read_csv(\"https://homes.cs.washington.edu/~emjun/tea-lang/datasets/catsData.csv\")\n",
    "\n",
    "# Execute statistical test\n",
    "var_x = \"Training\"\n",
    "var_y = \"Dance\"\n",
    "results = chi_square(var_x, var_y, data)"
   ]
  },
  {
   "cell_type": "markdown",
   "metadata": {},
   "source": [
    "### Visualizations"
   ]
  },
  {
   "cell_type": "code",
   "execution_count": 37,
   "metadata": {},
   "outputs": [
    {
     "data": {
      "text/html": [
       "\n",
       "<div id=\"altair-viz-7c9bed61b8be489188866b8f62c7c4e0\"></div>\n",
       "<script type=\"text/javascript\">\n",
       "  var VEGA_DEBUG = (typeof VEGA_DEBUG == \"undefined\") ? {} : VEGA_DEBUG;\n",
       "  (function(spec, embedOpt){\n",
       "    let outputDiv = document.currentScript.previousElementSibling;\n",
       "    if (outputDiv.id !== \"altair-viz-7c9bed61b8be489188866b8f62c7c4e0\") {\n",
       "      outputDiv = document.getElementById(\"altair-viz-7c9bed61b8be489188866b8f62c7c4e0\");\n",
       "    }\n",
       "    const paths = {\n",
       "      \"vega\": \"https://cdn.jsdelivr.net/npm//vega@5?noext\",\n",
       "      \"vega-lib\": \"https://cdn.jsdelivr.net/npm//vega-lib?noext\",\n",
       "      \"vega-lite\": \"https://cdn.jsdelivr.net/npm//vega-lite@4.17.0?noext\",\n",
       "      \"vega-embed\": \"https://cdn.jsdelivr.net/npm//vega-embed@6?noext\",\n",
       "    };\n",
       "\n",
       "    function maybeLoadScript(lib, version) {\n",
       "      var key = `${lib.replace(\"-\", \"\")}_version`;\n",
       "      return (VEGA_DEBUG[key] == version) ?\n",
       "        Promise.resolve(paths[lib]) :\n",
       "        new Promise(function(resolve, reject) {\n",
       "          var s = document.createElement('script');\n",
       "          document.getElementsByTagName(\"head\")[0].appendChild(s);\n",
       "          s.async = true;\n",
       "          s.onload = () => {\n",
       "            VEGA_DEBUG[key] = version;\n",
       "            return resolve(paths[lib]);\n",
       "          };\n",
       "          s.onerror = () => reject(`Error loading script: ${paths[lib]}`);\n",
       "          s.src = paths[lib];\n",
       "        });\n",
       "    }\n",
       "\n",
       "    function showError(err) {\n",
       "      outputDiv.innerHTML = `<div class=\"error\" style=\"color:red;\">${err}</div>`;\n",
       "      throw err;\n",
       "    }\n",
       "\n",
       "    function displayChart(vegaEmbed) {\n",
       "      vegaEmbed(outputDiv, spec, embedOpt)\n",
       "        .catch(err => showError(`Javascript Error: ${err.message}<br>This usually means there's a typo in your chart specification. See the javascript console for the full traceback.`));\n",
       "    }\n",
       "\n",
       "    if(typeof define === \"function\" && define.amd) {\n",
       "      requirejs.config({paths});\n",
       "      require([\"vega-embed\"], displayChart, err => showError(`Error loading script: ${err.message}`));\n",
       "    } else {\n",
       "      maybeLoadScript(\"vega\", \"5\")\n",
       "        .then(() => maybeLoadScript(\"vega-lite\", \"4.17.0\"))\n",
       "        .then(() => maybeLoadScript(\"vega-embed\", \"6\"))\n",
       "        .catch(showError)\n",
       "        .then(() => displayChart(vegaEmbed));\n",
       "    }\n",
       "  })({\"config\": {\"view\": {\"continuousWidth\": 400, \"continuousHeight\": 300}}, \"data\": {\"name\": \"data-b3096104a8e44713a97a20356c6c43f8\"}, \"mark\": \"rect\", \"encoding\": {\"color\": {\"field\": \"results\", \"type\": \"quantitative\"}, \"x\": {\"field\": \"Training\", \"type\": \"nominal\"}, \"y\": {\"field\": \"Dance\", \"type\": \"nominal\"}}, \"$schema\": \"https://vega.github.io/schema/vega-lite/v4.17.0.json\", \"datasets\": {\"data-b3096104a8e44713a97a20356c6c43f8\": [{\"Unnamed: 0\": 1, \"Training\": \"Food as Reward\", \"Dance\": \"Yes\"}, {\"Unnamed: 0\": 2, \"Training\": \"Food as Reward\", \"Dance\": \"Yes\"}, {\"Unnamed: 0\": 3, \"Training\": \"Food as Reward\", \"Dance\": \"Yes\"}, {\"Unnamed: 0\": 4, \"Training\": \"Food as Reward\", \"Dance\": \"Yes\"}, {\"Unnamed: 0\": 5, \"Training\": \"Food as Reward\", \"Dance\": \"Yes\"}, {\"Unnamed: 0\": 6, \"Training\": \"Food as Reward\", \"Dance\": \"Yes\"}, {\"Unnamed: 0\": 7, \"Training\": \"Food as Reward\", \"Dance\": \"Yes\"}, {\"Unnamed: 0\": 8, \"Training\": \"Food as Reward\", \"Dance\": \"Yes\"}, {\"Unnamed: 0\": 9, \"Training\": \"Food as Reward\", \"Dance\": \"Yes\"}, {\"Unnamed: 0\": 10, \"Training\": \"Food as Reward\", \"Dance\": \"Yes\"}, {\"Unnamed: 0\": 11, \"Training\": \"Food as Reward\", \"Dance\": \"No\"}, {\"Unnamed: 0\": 12, \"Training\": \"Food as Reward\", \"Dance\": \"No\"}, {\"Unnamed: 0\": 13, \"Training\": \"Food as Reward\", \"Dance\": \"No\"}, {\"Unnamed: 0\": 14, \"Training\": \"Food as Reward\", \"Dance\": \"No\"}, {\"Unnamed: 0\": 15, \"Training\": \"Food as Reward\", \"Dance\": \"No\"}, {\"Unnamed: 0\": 16, \"Training\": \"Food as Reward\", \"Dance\": \"No\"}, {\"Unnamed: 0\": 17, \"Training\": \"Food as Reward\", \"Dance\": \"No\"}, {\"Unnamed: 0\": 18, \"Training\": \"Food as Reward\", \"Dance\": \"No\"}, {\"Unnamed: 0\": 19, \"Training\": \"Food as Reward\", \"Dance\": \"No\"}, {\"Unnamed: 0\": 20, \"Training\": \"Food as Reward\", \"Dance\": \"No\"}, {\"Unnamed: 0\": 21, \"Training\": \"Food as Reward\", \"Dance\": \"No\"}, {\"Unnamed: 0\": 22, \"Training\": \"Food as Reward\", \"Dance\": \"No\"}, {\"Unnamed: 0\": 23, \"Training\": \"Food as Reward\", \"Dance\": \"No\"}, {\"Unnamed: 0\": 24, \"Training\": \"Food as Reward\", \"Dance\": \"No\"}, {\"Unnamed: 0\": 25, \"Training\": \"Food as Reward\", \"Dance\": \"No\"}, {\"Unnamed: 0\": 26, \"Training\": \"Food as Reward\", \"Dance\": \"No\"}, {\"Unnamed: 0\": 27, \"Training\": \"Food as Reward\", \"Dance\": \"No\"}, {\"Unnamed: 0\": 28, \"Training\": \"Food as Reward\", \"Dance\": \"No\"}, {\"Unnamed: 0\": 29, \"Training\": \"Food as Reward\", \"Dance\": \"No\"}, {\"Unnamed: 0\": 30, \"Training\": \"Food as Reward\", \"Dance\": \"No\"}, {\"Unnamed: 0\": 31, \"Training\": \"Food as Reward\", \"Dance\": \"No\"}, {\"Unnamed: 0\": 32, \"Training\": \"Food as Reward\", \"Dance\": \"No\"}, {\"Unnamed: 0\": 33, \"Training\": \"Food as Reward\", \"Dance\": \"No\"}, {\"Unnamed: 0\": 34, \"Training\": \"Food as Reward\", \"Dance\": \"No\"}, {\"Unnamed: 0\": 35, \"Training\": \"Food as Reward\", \"Dance\": \"No\"}, {\"Unnamed: 0\": 36, \"Training\": \"Food as Reward\", \"Dance\": \"No\"}, {\"Unnamed: 0\": 37, \"Training\": \"Food as Reward\", \"Dance\": \"No\"}, {\"Unnamed: 0\": 38, \"Training\": \"Food as Reward\", \"Dance\": \"No\"}, {\"Unnamed: 0\": 39, \"Training\": \"Affection as Reward\", \"Dance\": \"Yes\"}, {\"Unnamed: 0\": 40, \"Training\": \"Affection as Reward\", \"Dance\": \"Yes\"}, {\"Unnamed: 0\": 41, \"Training\": \"Affection as Reward\", \"Dance\": \"Yes\"}, {\"Unnamed: 0\": 42, \"Training\": \"Affection as Reward\", \"Dance\": \"Yes\"}, {\"Unnamed: 0\": 43, \"Training\": \"Affection as Reward\", \"Dance\": \"Yes\"}, {\"Unnamed: 0\": 44, \"Training\": \"Affection as Reward\", \"Dance\": \"Yes\"}, {\"Unnamed: 0\": 45, \"Training\": \"Affection as Reward\", \"Dance\": \"Yes\"}, {\"Unnamed: 0\": 46, \"Training\": \"Affection as Reward\", \"Dance\": \"Yes\"}, {\"Unnamed: 0\": 47, \"Training\": \"Affection as Reward\", \"Dance\": \"Yes\"}, {\"Unnamed: 0\": 48, \"Training\": \"Affection as Reward\", \"Dance\": \"Yes\"}, {\"Unnamed: 0\": 49, \"Training\": \"Affection as Reward\", \"Dance\": \"Yes\"}, {\"Unnamed: 0\": 50, \"Training\": \"Affection as Reward\", \"Dance\": \"Yes\"}, {\"Unnamed: 0\": 51, \"Training\": \"Affection as Reward\", \"Dance\": \"Yes\"}, {\"Unnamed: 0\": 52, \"Training\": \"Affection as Reward\", \"Dance\": \"Yes\"}, {\"Unnamed: 0\": 53, \"Training\": \"Affection as Reward\", \"Dance\": \"Yes\"}, {\"Unnamed: 0\": 54, \"Training\": \"Affection as Reward\", \"Dance\": \"Yes\"}, {\"Unnamed: 0\": 55, \"Training\": \"Affection as Reward\", \"Dance\": \"Yes\"}, {\"Unnamed: 0\": 56, \"Training\": \"Affection as Reward\", \"Dance\": \"Yes\"}, {\"Unnamed: 0\": 57, \"Training\": \"Affection as Reward\", \"Dance\": \"Yes\"}, {\"Unnamed: 0\": 58, \"Training\": \"Affection as Reward\", \"Dance\": \"Yes\"}, {\"Unnamed: 0\": 59, \"Training\": \"Affection as Reward\", \"Dance\": \"Yes\"}, {\"Unnamed: 0\": 60, \"Training\": \"Affection as Reward\", \"Dance\": \"Yes\"}, {\"Unnamed: 0\": 61, \"Training\": \"Affection as Reward\", \"Dance\": \"Yes\"}, {\"Unnamed: 0\": 62, \"Training\": \"Affection as Reward\", \"Dance\": \"Yes\"}, {\"Unnamed: 0\": 63, \"Training\": \"Affection as Reward\", \"Dance\": \"Yes\"}, {\"Unnamed: 0\": 64, \"Training\": \"Affection as Reward\", \"Dance\": \"Yes\"}, {\"Unnamed: 0\": 65, \"Training\": \"Affection as Reward\", \"Dance\": \"Yes\"}, {\"Unnamed: 0\": 66, \"Training\": \"Affection as Reward\", \"Dance\": \"Yes\"}, {\"Unnamed: 0\": 67, \"Training\": \"Affection as Reward\", \"Dance\": \"Yes\"}, {\"Unnamed: 0\": 68, \"Training\": \"Affection as Reward\", \"Dance\": \"Yes\"}, {\"Unnamed: 0\": 69, \"Training\": \"Affection as Reward\", \"Dance\": \"Yes\"}, {\"Unnamed: 0\": 70, \"Training\": \"Affection as Reward\", \"Dance\": \"Yes\"}, {\"Unnamed: 0\": 71, \"Training\": \"Affection as Reward\", \"Dance\": \"Yes\"}, {\"Unnamed: 0\": 72, \"Training\": \"Affection as Reward\", \"Dance\": \"Yes\"}, {\"Unnamed: 0\": 73, \"Training\": \"Affection as Reward\", \"Dance\": \"Yes\"}, {\"Unnamed: 0\": 74, \"Training\": \"Affection as Reward\", \"Dance\": \"Yes\"}, {\"Unnamed: 0\": 75, \"Training\": \"Affection as Reward\", \"Dance\": \"Yes\"}, {\"Unnamed: 0\": 76, \"Training\": \"Affection as Reward\", \"Dance\": \"Yes\"}, {\"Unnamed: 0\": 77, \"Training\": \"Affection as Reward\", \"Dance\": \"Yes\"}, {\"Unnamed: 0\": 78, \"Training\": \"Affection as Reward\", \"Dance\": \"Yes\"}, {\"Unnamed: 0\": 79, \"Training\": \"Affection as Reward\", \"Dance\": \"Yes\"}, {\"Unnamed: 0\": 80, \"Training\": \"Affection as Reward\", \"Dance\": \"Yes\"}, {\"Unnamed: 0\": 81, \"Training\": \"Affection as Reward\", \"Dance\": \"Yes\"}, {\"Unnamed: 0\": 82, \"Training\": \"Affection as Reward\", \"Dance\": \"Yes\"}, {\"Unnamed: 0\": 83, \"Training\": \"Affection as Reward\", \"Dance\": \"Yes\"}, {\"Unnamed: 0\": 84, \"Training\": \"Affection as Reward\", \"Dance\": \"Yes\"}, {\"Unnamed: 0\": 85, \"Training\": \"Affection as Reward\", \"Dance\": \"Yes\"}, {\"Unnamed: 0\": 86, \"Training\": \"Affection as Reward\", \"Dance\": \"Yes\"}, {\"Unnamed: 0\": 87, \"Training\": \"Affection as Reward\", \"Dance\": \"Yes\"}, {\"Unnamed: 0\": 88, \"Training\": \"Affection as Reward\", \"Dance\": \"Yes\"}, {\"Unnamed: 0\": 89, \"Training\": \"Affection as Reward\", \"Dance\": \"Yes\"}, {\"Unnamed: 0\": 90, \"Training\": \"Affection as Reward\", \"Dance\": \"Yes\"}, {\"Unnamed: 0\": 91, \"Training\": \"Affection as Reward\", \"Dance\": \"Yes\"}, {\"Unnamed: 0\": 92, \"Training\": \"Affection as Reward\", \"Dance\": \"Yes\"}, {\"Unnamed: 0\": 93, \"Training\": \"Affection as Reward\", \"Dance\": \"Yes\"}, {\"Unnamed: 0\": 94, \"Training\": \"Affection as Reward\", \"Dance\": \"Yes\"}, {\"Unnamed: 0\": 95, \"Training\": \"Affection as Reward\", \"Dance\": \"Yes\"}, {\"Unnamed: 0\": 96, \"Training\": \"Affection as Reward\", \"Dance\": \"Yes\"}, {\"Unnamed: 0\": 97, \"Training\": \"Affection as Reward\", \"Dance\": \"Yes\"}, {\"Unnamed: 0\": 98, \"Training\": \"Affection as Reward\", \"Dance\": \"Yes\"}, {\"Unnamed: 0\": 99, \"Training\": \"Affection as Reward\", \"Dance\": \"Yes\"}, {\"Unnamed: 0\": 100, \"Training\": \"Affection as Reward\", \"Dance\": \"Yes\"}, {\"Unnamed: 0\": 101, \"Training\": \"Affection as Reward\", \"Dance\": \"Yes\"}, {\"Unnamed: 0\": 102, \"Training\": \"Affection as Reward\", \"Dance\": \"Yes\"}, {\"Unnamed: 0\": 103, \"Training\": \"Affection as Reward\", \"Dance\": \"Yes\"}, {\"Unnamed: 0\": 104, \"Training\": \"Affection as Reward\", \"Dance\": \"Yes\"}, {\"Unnamed: 0\": 105, \"Training\": \"Affection as Reward\", \"Dance\": \"Yes\"}, {\"Unnamed: 0\": 106, \"Training\": \"Affection as Reward\", \"Dance\": \"Yes\"}, {\"Unnamed: 0\": 107, \"Training\": \"Affection as Reward\", \"Dance\": \"Yes\"}, {\"Unnamed: 0\": 108, \"Training\": \"Affection as Reward\", \"Dance\": \"Yes\"}, {\"Unnamed: 0\": 109, \"Training\": \"Affection as Reward\", \"Dance\": \"Yes\"}, {\"Unnamed: 0\": 110, \"Training\": \"Affection as Reward\", \"Dance\": \"Yes\"}, {\"Unnamed: 0\": 111, \"Training\": \"Affection as Reward\", \"Dance\": \"Yes\"}, {\"Unnamed: 0\": 112, \"Training\": \"Affection as Reward\", \"Dance\": \"Yes\"}, {\"Unnamed: 0\": 113, \"Training\": \"Affection as Reward\", \"Dance\": \"Yes\"}, {\"Unnamed: 0\": 114, \"Training\": \"Affection as Reward\", \"Dance\": \"Yes\"}, {\"Unnamed: 0\": 115, \"Training\": \"Affection as Reward\", \"Dance\": \"Yes\"}, {\"Unnamed: 0\": 116, \"Training\": \"Affection as Reward\", \"Dance\": \"Yes\"}, {\"Unnamed: 0\": 117, \"Training\": \"Affection as Reward\", \"Dance\": \"Yes\"}, {\"Unnamed: 0\": 118, \"Training\": \"Affection as Reward\", \"Dance\": \"Yes\"}, {\"Unnamed: 0\": 119, \"Training\": \"Affection as Reward\", \"Dance\": \"Yes\"}, {\"Unnamed: 0\": 120, \"Training\": \"Affection as Reward\", \"Dance\": \"Yes\"}, {\"Unnamed: 0\": 121, \"Training\": \"Affection as Reward\", \"Dance\": \"Yes\"}, {\"Unnamed: 0\": 122, \"Training\": \"Affection as Reward\", \"Dance\": \"Yes\"}, {\"Unnamed: 0\": 123, \"Training\": \"Affection as Reward\", \"Dance\": \"Yes\"}, {\"Unnamed: 0\": 124, \"Training\": \"Affection as Reward\", \"Dance\": \"Yes\"}, {\"Unnamed: 0\": 125, \"Training\": \"Affection as Reward\", \"Dance\": \"Yes\"}, {\"Unnamed: 0\": 126, \"Training\": \"Affection as Reward\", \"Dance\": \"Yes\"}, {\"Unnamed: 0\": 127, \"Training\": \"Affection as Reward\", \"Dance\": \"Yes\"}, {\"Unnamed: 0\": 128, \"Training\": \"Affection as Reward\", \"Dance\": \"Yes\"}, {\"Unnamed: 0\": 129, \"Training\": \"Affection as Reward\", \"Dance\": \"Yes\"}, {\"Unnamed: 0\": 130, \"Training\": \"Affection as Reward\", \"Dance\": \"Yes\"}, {\"Unnamed: 0\": 131, \"Training\": \"Affection as Reward\", \"Dance\": \"Yes\"}, {\"Unnamed: 0\": 132, \"Training\": \"Affection as Reward\", \"Dance\": \"Yes\"}, {\"Unnamed: 0\": 133, \"Training\": \"Affection as Reward\", \"Dance\": \"Yes\"}, {\"Unnamed: 0\": 134, \"Training\": \"Affection as Reward\", \"Dance\": \"Yes\"}, {\"Unnamed: 0\": 135, \"Training\": \"Affection as Reward\", \"Dance\": \"Yes\"}, {\"Unnamed: 0\": 136, \"Training\": \"Affection as Reward\", \"Dance\": \"Yes\"}, {\"Unnamed: 0\": 137, \"Training\": \"Affection as Reward\", \"Dance\": \"Yes\"}, {\"Unnamed: 0\": 138, \"Training\": \"Affection as Reward\", \"Dance\": \"Yes\"}, {\"Unnamed: 0\": 139, \"Training\": \"Affection as Reward\", \"Dance\": \"Yes\"}, {\"Unnamed: 0\": 140, \"Training\": \"Affection as Reward\", \"Dance\": \"Yes\"}, {\"Unnamed: 0\": 141, \"Training\": \"Affection as Reward\", \"Dance\": \"Yes\"}, {\"Unnamed: 0\": 142, \"Training\": \"Affection as Reward\", \"Dance\": \"Yes\"}, {\"Unnamed: 0\": 143, \"Training\": \"Affection as Reward\", \"Dance\": \"Yes\"}, {\"Unnamed: 0\": 144, \"Training\": \"Affection as Reward\", \"Dance\": \"Yes\"}, {\"Unnamed: 0\": 145, \"Training\": \"Affection as Reward\", \"Dance\": \"Yes\"}, {\"Unnamed: 0\": 146, \"Training\": \"Affection as Reward\", \"Dance\": \"Yes\"}, {\"Unnamed: 0\": 147, \"Training\": \"Affection as Reward\", \"Dance\": \"Yes\"}, {\"Unnamed: 0\": 148, \"Training\": \"Affection as Reward\", \"Dance\": \"Yes\"}, {\"Unnamed: 0\": 149, \"Training\": \"Affection as Reward\", \"Dance\": \"Yes\"}, {\"Unnamed: 0\": 150, \"Training\": \"Affection as Reward\", \"Dance\": \"Yes\"}, {\"Unnamed: 0\": 151, \"Training\": \"Affection as Reward\", \"Dance\": \"Yes\"}, {\"Unnamed: 0\": 152, \"Training\": \"Affection as Reward\", \"Dance\": \"Yes\"}, {\"Unnamed: 0\": 153, \"Training\": \"Affection as Reward\", \"Dance\": \"No\"}, {\"Unnamed: 0\": 154, \"Training\": \"Affection as Reward\", \"Dance\": \"No\"}, {\"Unnamed: 0\": 155, \"Training\": \"Affection as Reward\", \"Dance\": \"No\"}, {\"Unnamed: 0\": 156, \"Training\": \"Affection as Reward\", \"Dance\": \"No\"}, {\"Unnamed: 0\": 157, \"Training\": \"Affection as Reward\", \"Dance\": \"No\"}, {\"Unnamed: 0\": 158, \"Training\": \"Affection as Reward\", \"Dance\": \"No\"}, {\"Unnamed: 0\": 159, \"Training\": \"Affection as Reward\", \"Dance\": \"No\"}, {\"Unnamed: 0\": 160, \"Training\": \"Affection as Reward\", \"Dance\": \"No\"}, {\"Unnamed: 0\": 161, \"Training\": \"Affection as Reward\", \"Dance\": \"No\"}, {\"Unnamed: 0\": 162, \"Training\": \"Affection as Reward\", \"Dance\": \"No\"}, {\"Unnamed: 0\": 163, \"Training\": \"Affection as Reward\", \"Dance\": \"No\"}, {\"Unnamed: 0\": 164, \"Training\": \"Affection as Reward\", \"Dance\": \"No\"}, {\"Unnamed: 0\": 165, \"Training\": \"Affection as Reward\", \"Dance\": \"No\"}, {\"Unnamed: 0\": 166, \"Training\": \"Affection as Reward\", \"Dance\": \"No\"}, {\"Unnamed: 0\": 167, \"Training\": \"Affection as Reward\", \"Dance\": \"No\"}, {\"Unnamed: 0\": 168, \"Training\": \"Affection as Reward\", \"Dance\": \"No\"}, {\"Unnamed: 0\": 169, \"Training\": \"Affection as Reward\", \"Dance\": \"No\"}, {\"Unnamed: 0\": 170, \"Training\": \"Affection as Reward\", \"Dance\": \"No\"}, {\"Unnamed: 0\": 171, \"Training\": \"Affection as Reward\", \"Dance\": \"No\"}, {\"Unnamed: 0\": 172, \"Training\": \"Affection as Reward\", \"Dance\": \"No\"}, {\"Unnamed: 0\": 173, \"Training\": \"Affection as Reward\", \"Dance\": \"No\"}, {\"Unnamed: 0\": 174, \"Training\": \"Affection as Reward\", \"Dance\": \"No\"}, {\"Unnamed: 0\": 175, \"Training\": \"Affection as Reward\", \"Dance\": \"No\"}, {\"Unnamed: 0\": 176, \"Training\": \"Affection as Reward\", \"Dance\": \"No\"}, {\"Unnamed: 0\": 177, \"Training\": \"Affection as Reward\", \"Dance\": \"No\"}, {\"Unnamed: 0\": 178, \"Training\": \"Affection as Reward\", \"Dance\": \"No\"}, {\"Unnamed: 0\": 179, \"Training\": \"Affection as Reward\", \"Dance\": \"No\"}, {\"Unnamed: 0\": 180, \"Training\": \"Affection as Reward\", \"Dance\": \"No\"}, {\"Unnamed: 0\": 181, \"Training\": \"Affection as Reward\", \"Dance\": \"No\"}, {\"Unnamed: 0\": 182, \"Training\": \"Affection as Reward\", \"Dance\": \"No\"}, {\"Unnamed: 0\": 183, \"Training\": \"Affection as Reward\", \"Dance\": \"No\"}, {\"Unnamed: 0\": 184, \"Training\": \"Affection as Reward\", \"Dance\": \"No\"}, {\"Unnamed: 0\": 185, \"Training\": \"Affection as Reward\", \"Dance\": \"No\"}, {\"Unnamed: 0\": 186, \"Training\": \"Affection as Reward\", \"Dance\": \"No\"}, {\"Unnamed: 0\": 187, \"Training\": \"Affection as Reward\", \"Dance\": \"No\"}, {\"Unnamed: 0\": 188, \"Training\": \"Affection as Reward\", \"Dance\": \"No\"}, {\"Unnamed: 0\": 189, \"Training\": \"Affection as Reward\", \"Dance\": \"No\"}, {\"Unnamed: 0\": 190, \"Training\": \"Affection as Reward\", \"Dance\": \"No\"}, {\"Unnamed: 0\": 191, \"Training\": \"Affection as Reward\", \"Dance\": \"No\"}, {\"Unnamed: 0\": 192, \"Training\": \"Affection as Reward\", \"Dance\": \"No\"}, {\"Unnamed: 0\": 193, \"Training\": \"Affection as Reward\", \"Dance\": \"No\"}, {\"Unnamed: 0\": 194, \"Training\": \"Affection as Reward\", \"Dance\": \"No\"}, {\"Unnamed: 0\": 195, \"Training\": \"Affection as Reward\", \"Dance\": \"No\"}, {\"Unnamed: 0\": 196, \"Training\": \"Affection as Reward\", \"Dance\": \"No\"}, {\"Unnamed: 0\": 197, \"Training\": \"Affection as Reward\", \"Dance\": \"No\"}, {\"Unnamed: 0\": 198, \"Training\": \"Affection as Reward\", \"Dance\": \"No\"}, {\"Unnamed: 0\": 199, \"Training\": \"Affection as Reward\", \"Dance\": \"No\"}, {\"Unnamed: 0\": 200, \"Training\": \"Affection as Reward\", \"Dance\": \"No\"}]}}, {\"mode\": \"vega-lite\"});\n",
       "</script>"
      ],
      "text/plain": [
       "alt.Chart(...)"
      ]
     },
     "execution_count": 37,
     "metadata": {},
     "output_type": "execute_result"
    }
   ],
   "source": [
    "# 2D Heat Map\n",
    "\n",
    "# Create new DF with \"results\" appended\n",
    "alt.Chart(data).mark_rect().encode(\n",
    "    x='Training:N',\n",
    "    y='Dance:N',\n",
    "    color='results:Q'\n",
    ")"
   ]
  }
 ],
 "metadata": {
  "kernelspec": {
   "display_name": "Python 3 (ipykernel)",
   "language": "python",
   "name": "python3"
  },
  "language_info": {
   "codemirror_mode": {
    "name": "ipython",
    "version": 3
   },
   "file_extension": ".py",
   "mimetype": "text/x-python",
   "name": "python",
   "nbconvert_exporter": "python",
   "pygments_lexer": "ipython3",
   "version": "3.9.0"
  }
 },
 "nbformat": 4,
 "nbformat_minor": 2
}
