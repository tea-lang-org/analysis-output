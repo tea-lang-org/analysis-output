{
 "cells": [
  {
   "cell_type": "code",
   "execution_count": 36,
   "metadata": {},
   "outputs": [],
   "source": [
    "import altair as alt\n",
    "import pandas as pd\n",
    "import statsmodels as sm\n",
    "from scipy import stats\n",
    "import numpy as np"
   ]
  },
  {
   "cell_type": "markdown",
   "metadata": {},
   "source": [
    "## Chi-Square Test"
   ]
  },
  {
   "cell_type": "code",
   "execution_count": 21,
   "metadata": {},
   "outputs": [],
   "source": [
    "def chi_square(var_x, var_y, data):\n",
    "    var_0_groups = data[var_x].unique()\n",
    "    var_1_groups = data[var_y].unique()\n",
    "    ssize = len(var_x)  # Correctness?\n",
    "\n",
    "    contingency_table = []\n",
    "    for group_0 in var_0_groups:\n",
    "        table_row = []\n",
    "        for group_1 in var_1_groups:\n",
    "            data_new = data[var_y][(data[var_x] == group_0) & (data[var_y] == group_1)]\n",
    "            table_row.append(len(data_new))\n",
    "\n",
    "        contingency_table.append(table_row)\n",
    "\n",
    "    chi2, p_val, dof, expected = stats.chi2_contingency(contingency_table, correction=False)\n",
    "\n",
    "    significance = \"did not\"\n",
    "    if p_val < 0.05:\n",
    "        significance = \"did\"\n",
    "\n",
    "    p_string = \"p = \" + \"{0:.3f}\".format(p_val).lstrip('0')\n",
    "    if p_val < 0.001:\n",
    "        p_string = \"p < .001\"\n",
    "\n",
    "    chi2_string = \"X^2(\" + str(dof) + \", N = \" + str(ssize) + \") = \" + \"{0:.3f}\".format(chi2)\n",
    "\n",
    "    print(\"The X^2 test \" + significance + \" detect a significant association between \" \\\n",
    "            + str(var_x) + \" and \" + str(var_y) + \", \" + chi2_string +  \", \" + p_string)\n",
    "\n",
    "    return expected"
   ]
  },
  {
   "cell_type": "code",
   "execution_count": 26,
   "metadata": {},
   "outputs": [
    {
     "name": "stdout",
     "output_type": "stream",
     "text": [
      "The X^2 test did detect a significant association between Training and Dance, X^2(1, N = 8) = 25.356, p < .001\n"
     ]
    }
   ],
   "source": [
    "# Load data\n",
    "data = pd.read_csv(\"https://homes.cs.washington.edu/~emjun/tea-lang/datasets/catsData.csv\")\n",
    "\n",
    "# Execute statistical test\n",
    "var_x = \"Training\"\n",
    "var_y = \"Dance\"\n",
    "results = chi_square(var_x, var_y, data)"
   ]
  },
  {
   "cell_type": "markdown",
   "metadata": {},
   "source": [
    "### Visualizations"
   ]
  },
  {
   "cell_type": "code",
   "execution_count": 35,
   "metadata": {},
   "outputs": [],
   "source": [
    "# 2D Heat Map\n",
    "alt.Chart(data).mark_rect().encode(\n",
    "    x='Training:N',\n",
    "    y='Dance:N',\n",
    "    color='results:Q'\n",
    ")"
   ]
  }
 ],
 "metadata": {
  "kernelspec": {
   "display_name": "Python 3 (ipykernel)",
   "language": "python",
   "name": "python3"
  },
  "language_info": {
   "codemirror_mode": {
    "name": "ipython",
    "version": 3
   },
   "file_extension": ".py",
   "mimetype": "text/x-python",
   "name": "python",
   "nbconvert_exporter": "python",
   "pygments_lexer": "ipython3",
   "version": "3.9.0"
  }
 },
 "nbformat": 4,
 "nbformat_minor": 2
}
