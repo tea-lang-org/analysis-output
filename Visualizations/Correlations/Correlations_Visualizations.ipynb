{
 "cells": [
  {
   "cell_type": "code",
   "execution_count": 1,
   "metadata": {},
   "outputs": [],
   "source": [
    "import altair as alt\n",
    "import pandas as pd\n",
    "import statsmodels as sm\n",
    "from scipy import stats\n",
    "import numpy as np"
   ]
  },
  {
   "cell_type": "markdown",
   "metadata": {},
   "source": [
    "## Generalized Correlations Visualizations \n",
    "Generalized support for Perason's Spearman's Rho, Kendall's Tau, and Point Biserial tests"
   ]
  },
  {
   "cell_type": "code",
   "execution_count": 2,
   "metadata": {},
   "outputs": [],
   "source": [
    "def correlations(test, var_x, var_y):\n",
    "    x = data[var_x]\n",
    "    y = data[var_y]\n",
    "    df = len(x) - 2 # Determine degrees of freedom \n",
    "\n",
    "    r_val = None\n",
    "    p_val = None \n",
    "    corr = \"\"\n",
    "\n",
    "    if test == 'pearson':\n",
    "        r_val, p_val = stats.pearsonr(x, y)\n",
    "        corr = \"Peason's correlation \"\n",
    "    elif test == 'spearman':\n",
    "        r_val, p_val = stats.spearmanr(x, y)\n",
    "        corr = \"Spearman's Rho correlation \"\n",
    "    elif test == 'kendall':\n",
    "        r_val, p_val = stats.kendalltau(x, y)\n",
    "        corr = \"Kendall's Tau correlation \"\n",
    "    elif test == 'pointbiserial':\n",
    "        r_val, p_val = stats.pointbiserialr(x, y)\n",
    "        corr = \"Point Biserial correlation \"\n",
    "    else:\n",
    "        print(\"Invalid argument for 'test'\")\n",
    "        print(\"Valid options include 'person', 'spearman', 'kendall', and 'pointbiserial\")\n",
    "        return\n",
    "\n",
    "    # Determine significance based on the p value \n",
    "    significance = \"did not\"\n",
    "    if p_val < 0.05:\n",
    "        significance = \"did\"\n",
    "\n",
    "    # Determine the confidence interval \n",
    "    ci = []\n",
    "    if test == 'kendall' or test == 'spearman':\n",
    "        stderr = 1.0 / np.sqrt(len(x) - 3)\n",
    "        delta = stderr * 1.96\n",
    "        ci = np.tanh(np.arctanh(r_val) - delta), np.tanh(np.arctanh(r_val) + delta)\n",
    "\n",
    "    # For Pearson/Point Biserial, the r_val must be translated to a Fisher's z_score, then \n",
    "    # converted back \n",
    "    else:\n",
    "        r_z = np.arctanh(r_val)\n",
    "        stdev = 1/np.sqrt(len(x)-3)\n",
    "        alpha = 0.05\n",
    "        z = stats.norm.ppf(1-alpha/2)\n",
    "        ci = np.tanh((r_z-z*stdev, r_z+z*stdev))\n",
    "\n",
    "    p_string = \"p = \" + \"{0:.3f}\".format(p_val).lstrip('0')\n",
    "    if p_val < 0.001:\n",
    "        p_string = \"p < .001\"\n",
    "\n",
    "    t_string = \"{0:.2f}\".format(abs(r_val)).lstrip('0')\n",
    "    if r_val < 0:\n",
    "        t_string = \"-\" + t_string\n",
    "    t_string = \"r(\" + str(df) + \") = \" + t_string\n",
    "\n",
    "    ci_1_string = \"{0:.2f}\".format(abs(ci[0])).lstrip('0')\n",
    "    if ci[0] < 0:\n",
    "        ci_1_string = \"-\" + ci_1_string \n",
    "    ci_2_string = \"{0:.2f}\".format(abs(ci[1])).lstrip('0')\n",
    "    if ci[1] < 0:\n",
    "        ci_2_string = \"-\" + ci_2_string \n",
    "\n",
    "    ci_string = \"[\" + ci_1_string + \", \" + ci_2_string + \"]\"\n",
    "\n",
    "    print(\"The \" + corr + significance + \" detect a significant correlation between \" \\\n",
    "        + str(var_x) + \" and \" + str(var_y) + \", \" + t_string +  \", \" \\\n",
    "        + ci_string + \", \" + p_string)"
   ]
  },
  {
   "cell_type": "code",
   "execution_count": 4,
   "metadata": {},
   "outputs": [
    {
     "name": "stdout",
     "output_type": "stream",
     "text": [
      "The Spearman's Rho correlation did detect a significant correlation between Position and Creativity, r(66) = -.37, [-.56, -.15], p = .002\n",
      "The Peason's correlation did detect a significant correlation between Creativity and Position, r(66) = -.31, [-.51, -.07], p = .011\n",
      "The Point Biserial correlation did detect a significant correlation between Creativity and Position, r(66) = -.31, [-.51, -.07], p = .011\n",
      "The Kendall's Tau correlation did not detect a significant correlation between Novice and Position, r(66) = .10, [-.14, .33], p = .374\n"
     ]
    }
   ],
   "source": [
    "# Load data\n",
    "data = pd.read_csv(\"https://homes.cs.washington.edu/~emjun/tea-lang/datasets/liar.csv\")\n",
    "\n",
    "# Execute statistical test\n",
    "var_x = \"Position\"\n",
    "var_y = \"Creativity\"\n",
    "correlations('spearman', var_x, var_y)\n",
    "\n",
    "var_x = \"Creativity\"\n",
    "var_y = \"Position\"\n",
    "correlations('pearson', var_x, var_y )\n",
    "\n",
    "var_x = \"Creativity\"\n",
    "var_y = \"Position\"\n",
    "correlations('pointbiserial', var_x, var_y )\n",
    "\n",
    "var_x = \"Novice\"\n",
    "var_y = \"Position\"\n",
    "correlations('kendall', var_x, var_y )"
   ]
  }
 ],
 "metadata": {
  "kernelspec": {
   "display_name": "Python 3 (ipykernel)",
   "language": "python",
   "name": "python3"
  },
  "language_info": {
   "codemirror_mode": {
    "name": "ipython",
    "version": 3
   },
   "file_extension": ".py",
   "mimetype": "text/x-python",
   "name": "python",
   "nbconvert_exporter": "python",
   "pygments_lexer": "ipython3",
   "version": "3.9.0"
  }
 },
 "nbformat": 4,
 "nbformat_minor": 2
}
