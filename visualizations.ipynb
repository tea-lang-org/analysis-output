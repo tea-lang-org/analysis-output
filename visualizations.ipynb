{
 "cells": [
  {
   "cell_type": "markdown",
   "metadata": {},
   "source": [
    "# Examples of statistical tests and their visualizations + templated text output + interpretations\n",
    "\n",
    "The examples below use datasets that can be found [here] (https://homes.cs.washington.edu/~emjun/tea-lang/datasets/). These datasets are used to test Tea as well. \n",
    "\n",
    "To get setup: \n",
    "- Run `poetry install` to make sure you have the dependencies"
   ]
  },
  {
   "cell_type": "code",
   "execution_count": null,
   "metadata": {},
   "outputs": [],
   "source": [
    "import altair as alt\n",
    "import pandas as pd"
   ]
  },
  {
   "cell_type": "markdown",
   "metadata": {},
   "source": [
    "## Pearson's correlation\n",
    "Data: statex77.csv"
   ]
  },
  {
   "cell_type": "code",
   "execution_count": null,
   "metadata": {},
   "outputs": [],
   "source": [
    "# Load data\n",
    "data = pd.read_csv(\"statex77.csv\") # TODO: replace with relative path to the dataset\n",
    "# Execute statistical test\n",
    "\n",
    "# Visualize statistical test result using Franconceri recommendations\n",
    "# Scatterplot\n",
    "\n",
    "# Parallel Coordinates\n"
   ]
  }
 ],
 "metadata": {
  "language_info": {
   "name": "python"
  },
  "orig_nbformat": 4
 },
 "nbformat": 4,
 "nbformat_minor": 2
}
